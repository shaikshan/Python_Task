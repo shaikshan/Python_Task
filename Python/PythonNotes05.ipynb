{
 "cells": [
  {
   "cell_type": "markdown",
   "id": "317f791f",
   "metadata": {},
   "source": [
    "###  Functions\n",
    "\n",
    "A function is a block of code that performs a specific task."
   ]
  },
  {
   "cell_type": "code",
   "execution_count": 1,
   "id": "10ebbfdf",
   "metadata": {},
   "outputs": [
    {
     "name": "stdout",
     "output_type": "stream",
     "text": [
      "Hello, welcome!\n"
     ]
    }
   ],
   "source": [
    "def greet():\n",
    "    print(\"Hello, welcome!\")\n",
    "\n",
    "greet()  # Calling the function"
   ]
  },
  {
   "cell_type": "markdown",
   "id": "fa7d3c8a",
   "metadata": {},
   "source": [
    "#### Function with Parameters:"
   ]
  },
  {
   "cell_type": "code",
   "execution_count": 2,
   "id": "50a83a3e",
   "metadata": {},
   "outputs": [
    {
     "name": "stdout",
     "output_type": "stream",
     "text": [
      "Hello Alice\n"
     ]
    }
   ],
   "source": [
    "def greet(name):\n",
    "    print(\"Hello\", name)\n",
    "\n",
    "greet(\"Alice\")"
   ]
  },
  {
   "cell_type": "markdown",
   "id": "573529dc",
   "metadata": {},
   "source": [
    "####  Function with Return Value:\n",
    "\n"
   ]
  },
  {
   "cell_type": "code",
   "execution_count": 3,
   "id": "d49a7dcd",
   "metadata": {},
   "outputs": [
    {
     "name": "stdout",
     "output_type": "stream",
     "text": [
      "8\n"
     ]
    }
   ],
   "source": [
    "def add(a, b):\n",
    "    return a + b\n",
    "\n",
    "result = add(3, 5)\n",
    "print(result)\n"
   ]
  },
  {
   "cell_type": "markdown",
   "id": "ae19c7ea",
   "metadata": {},
   "source": [
    "Why Use Functions?\n",
    "- To organize code\n",
    "\n",
    "- To avoid repetition\n",
    "\n",
    "- To reuse logic with different inputs"
   ]
  },
  {
   "cell_type": "markdown",
   "id": "19a741f0",
   "metadata": {},
   "source": [
    "#### Functions with *args and **kwargs\n",
    "\n",
    "- `*args` – Non-keyword variable-length arguments\n",
    "- `*args` allows a function to accept any number of positional arguments as a tuple."
   ]
  },
  {
   "cell_type": "code",
   "execution_count": 4,
   "id": "37268d67",
   "metadata": {},
   "outputs": [
    {
     "name": "stdout",
     "output_type": "stream",
     "text": [
      "Total: 10\n"
     ]
    }
   ],
   "source": [
    "def add_numbers(*args):\n",
    "    total = sum(args)\n",
    "    print(\"Total:\", total)\n",
    "\n",
    "add_numbers(2, 3, 5)"
   ]
  },
  {
   "cell_type": "markdown",
   "id": "8efc703b",
   "metadata": {},
   "source": [
    "- `**kwargs` – Keyword variable-length arguments\n",
    "- `**kwargs` allows a function to accept any number of keyword arguments as a dictionary."
   ]
  },
  {
   "cell_type": "code",
   "execution_count": 5,
   "id": "43bc3418",
   "metadata": {},
   "outputs": [
    {
     "name": "stdout",
     "output_type": "stream",
     "text": [
      "name : Alice\n",
      "age : 25\n",
      "city : Delhi\n"
     ]
    }
   ],
   "source": [
    "def print_info(**kwargs):\n",
    "    for key, value in kwargs.items():\n",
    "        print(key, \":\", value)\n",
    "\n",
    "print_info(name=\"Alice\", age=25, city=\"Delhi\")"
   ]
  },
  {
   "cell_type": "markdown",
   "id": "a273700f",
   "metadata": {},
   "source": [
    "####  Using Both *args and **kwargs Together:"
   ]
  },
  {
   "cell_type": "code",
   "execution_count": 6,
   "id": "5f35ca7e",
   "metadata": {},
   "outputs": [
    {
     "name": "stdout",
     "output_type": "stream",
     "text": [
      "Args: (1, 2, 3)\n",
      "Kwargs: {'name': 'John', 'job': 'Engineer'}\n"
     ]
    }
   ],
   "source": [
    "def demo(*args, **kwargs):\n",
    "    print(\"Args:\", args)\n",
    "    print(\"Kwargs:\", kwargs)\n",
    "\n",
    "demo(1, 2, 3, name=\"John\", job=\"Engineer\")\n"
   ]
  },
  {
   "cell_type": "markdown",
   "id": "048365db",
   "metadata": {},
   "source": [
    "__Use them when:__\n",
    "- You want flexible functions\n",
    "\n",
    "- You don’t know in advance how many inputs you'll get"
   ]
  },
  {
   "cell_type": "code",
   "execution_count": 7,
   "id": "70e274a6",
   "metadata": {},
   "outputs": [
    {
     "name": "stdout",
     "output_type": "stream",
     "text": [
      "Hey You\n"
     ]
    }
   ],
   "source": [
    "def intro_func(greeting,name = \"You\"):\n",
    "    return '{} {}'.format(greeting,name)\n",
    "\n",
    "print(intro_func('Hey'))"
   ]
  },
  {
   "cell_type": "code",
   "execution_count": 8,
   "id": "ff443cbe",
   "metadata": {},
   "outputs": [
    {
     "name": "stdout",
     "output_type": "stream",
     "text": [
      "Hey Roshan\n"
     ]
    }
   ],
   "source": [
    "print(intro_func('Hey',name=\"Roshan\"))"
   ]
  },
  {
   "cell_type": "code",
   "execution_count": 9,
   "id": "e0ce4012",
   "metadata": {},
   "outputs": [
    {
     "name": "stdout",
     "output_type": "stream",
     "text": [
      "What's up buddy\n"
     ]
    }
   ],
   "source": [
    "print(intro_func(\"What's up\", name='buddy'))"
   ]
  },
  {
   "cell_type": "markdown",
   "id": "6288acc1",
   "metadata": {},
   "source": [
    "In the above function if any argument is passed as input for name then it will be taken. Otherwise default name \"You\" will be used."
   ]
  },
  {
   "cell_type": "code",
   "execution_count": 10,
   "id": "fc8658ac",
   "metadata": {},
   "outputs": [
    {
     "name": "stdout",
     "output_type": "stream",
     "text": [
      "('Math', 'Art')\n",
      "{'name': 'Shan', 'age': 22}\n"
     ]
    }
   ],
   "source": [
    "def student_info(*args, **kwargs):\n",
    "    print(args)\n",
    "    print(kwargs)\n",
    "    \n",
    "student_info('Math',\"Art\",name = 'Shan',age = 22)"
   ]
  },
  {
   "cell_type": "markdown",
   "id": "a34df322",
   "metadata": {},
   "source": [
    "The positional arguments are stored in a tuple and the \n",
    "keyword argument are stored in dictionary"
   ]
  },
  {
   "cell_type": "code",
   "execution_count": 11,
   "id": "87acb222",
   "metadata": {},
   "outputs": [
    {
     "name": "stdout",
     "output_type": "stream",
     "text": [
      "(['Math', 'Art'], {'name': 'Shan', 'age': 22})\n",
      "{}\n"
     ]
    }
   ],
   "source": [
    "courses = [\"Math\",\"Art\"]\n",
    "\n",
    "info = {\"name\": \"Shan\", \"age\":22}\n",
    "\n",
    "student_info(courses,info)"
   ]
  },
  {
   "cell_type": "markdown",
   "id": "de5c9cbd",
   "metadata": {},
   "source": [
    "- if we just input the variable names then it will take them as positional arguments alone and ignore them as per there data type\n",
    "\n",
    "- To unpack them and see them for what they are we need to send them with `*` and `**`"
   ]
  },
  {
   "cell_type": "code",
   "execution_count": 12,
   "id": "70e1e34a",
   "metadata": {},
   "outputs": [
    {
     "name": "stdout",
     "output_type": "stream",
     "text": [
      "('Math', 'Art')\n",
      "{'name': 'Shan', 'age': 28}\n"
     ]
    }
   ],
   "source": [
    "def student_info(*args,**kwargs):\n",
    "    print(args)\n",
    "    print(kwargs)\n",
    "    \n",
    "courses = ['Math',\"Art\"]\n",
    "\n",
    "info = {\"name\":\"Shan\",\"age\":28}\n",
    "\n",
    "student_info(*courses,**info)"
   ]
  },
  {
   "cell_type": "markdown",
   "id": "182ec6c3",
   "metadata": {},
   "source": [
    "__Print a list of integers from 1 through n as a string without spaces:__"
   ]
  },
  {
   "cell_type": "code",
   "execution_count": 15,
   "id": "763282c1",
   "metadata": {},
   "outputs": [
    {
     "name": "stdout",
     "output_type": "stream",
     "text": [
      "1234"
     ]
    }
   ],
   "source": [
    "n = 4\n",
    "\n",
    "for i in range(1,n+1):\n",
    "    print(i,end = \"\")"
   ]
  },
  {
   "cell_type": "code",
   "execution_count": 17,
   "id": "fa57ddec",
   "metadata": {},
   "outputs": [],
   "source": [
    "def find_index(to_search,target):\n",
    "    \"\"\"Find the index of a value in a Sequence\"\"\"\n",
    "    for i, value in enumerate(to_search):\n",
    "        if value == target:\n",
    "            return i\n",
    "    return -1"
   ]
  },
  {
   "cell_type": "code",
   "execution_count": 18,
   "id": "d7f1fe63",
   "metadata": {},
   "outputs": [
    {
     "name": "stdout",
     "output_type": "stream",
     "text": [
      "1\n"
     ]
    }
   ],
   "source": [
    "courses = [\"His\",\"Math\",\"physics\",\"Comp\"]\n",
    "\n",
    "index = find_index(courses,\"Math\")\n",
    "\n",
    "print(index)"
   ]
  },
  {
   "cell_type": "code",
   "execution_count": 22,
   "id": "54c711da",
   "metadata": {},
   "outputs": [
    {
     "name": "stdout",
     "output_type": "stream",
     "text": [
      "-1\n"
     ]
    }
   ],
   "source": [
    "index = find_index(courses,\"Social\")\n",
    "print(index)\n"
   ]
  },
  {
   "cell_type": "markdown",
   "id": "017a6dff",
   "metadata": {},
   "source": [
    "### Decorators\n",
    "\n",
    "A decorator is a special function that adds extra functionality to another function without changing its code.\n",
    "\n",
    "__Step 1:__ Create a decorator"
   ]
  },
  {
   "cell_type": "code",
   "execution_count": 23,
   "id": "d2791706",
   "metadata": {},
   "outputs": [],
   "source": [
    "def my_decorator(func):\n",
    "    def wrapper():\n",
    "        print(\"Before the function runs\")\n",
    "        func()\n",
    "        print(\"After the function runs\")\n",
    "    return wrapper\n"
   ]
  },
  {
   "cell_type": "markdown",
   "id": "4a1e4a91",
   "metadata": {},
   "source": [
    "__Step 2:__ Apply the decorator"
   ]
  },
  {
   "cell_type": "code",
   "execution_count": 32,
   "id": "146354b3",
   "metadata": {},
   "outputs": [
    {
     "name": "stdout",
     "output_type": "stream",
     "text": [
      "Before the function runs\n",
      "Hello!\n",
      "After the function runs\n"
     ]
    }
   ],
   "source": [
    "@my_decorator\n",
    "def say_hello():\n",
    "    print(\"Hello!\")\n",
    "\n",
    "say_hello()\n"
   ]
  },
  {
   "cell_type": "code",
   "execution_count": 35,
   "id": "673a70b9",
   "metadata": {},
   "outputs": [
    {
     "name": "stdout",
     "output_type": "stream",
     "text": [
      "Before the function runs\n",
      "Hello!\n",
      "After the function runs\n"
     ]
    }
   ],
   "source": [
    "def say_hello():\n",
    "    print(\"Hello!\")\n",
    "\n",
    "sayhello = my_decorator(say_hello)\n",
    "\n",
    "sayhello()"
   ]
  },
  {
   "cell_type": "markdown",
   "id": "bb0492df",
   "metadata": {},
   "source": [
    "Explanation:\n",
    "\n",
    "- @my_decorator tells Python to pass say_hello into - my_decorator\n",
    "\n",
    "- The wrapper() function runs before and after the original function"
   ]
  },
  {
   "cell_type": "markdown",
   "id": "b0509f89",
   "metadata": {},
   "source": [
    "When to Use Decorators?\n",
    "\n",
    "- Logging\n",
    "\n",
    "- Timing execution\n",
    "\n",
    "- Checking permissions\n",
    "\n",
    "- Caching\n",
    "\n",
    "- Reusing logic across functions"
   ]
  },
  {
   "cell_type": "markdown",
   "id": "2a0bf55a",
   "metadata": {},
   "source": [
    "#### Nested Function\n",
    "\n",
    "A nested function is simply a function defined inside another function.\n",
    "\n"
   ]
  },
  {
   "cell_type": "code",
   "execution_count": 41,
   "id": "2f3f8605",
   "metadata": {},
   "outputs": [],
   "source": [
    "def outer_function():\n",
    "    def inner_function():\n",
    "        print(\"I'm the inner function\")\n",
    "    \n",
    "    print(\"I'm the outer function\")\n",
    "    inner_function()  # Call the inner function\n"
   ]
  },
  {
   "cell_type": "code",
   "execution_count": 42,
   "id": "8a7faa0b",
   "metadata": {},
   "outputs": [
    {
     "name": "stdout",
     "output_type": "stream",
     "text": [
      "I'm the outer function\n",
      "I'm the inner function\n"
     ]
    }
   ],
   "source": [
    "outer_function()"
   ]
  },
  {
   "cell_type": "code",
   "execution_count": 39,
   "id": "84e3cf2b",
   "metadata": {},
   "outputs": [],
   "source": [
    "def greet():\n",
    "    def get_message():\n",
    "        return \"Hello from inside!\"\n",
    "    \n",
    "    print(\"Greeting:\")\n",
    "    print(get_message())\n"
   ]
  },
  {
   "cell_type": "code",
   "execution_count": 40,
   "id": "47fb83ea",
   "metadata": {},
   "outputs": [
    {
     "name": "stdout",
     "output_type": "stream",
     "text": [
      "Greeting:\n",
      "Hello from inside!\n"
     ]
    }
   ],
   "source": [
    "greet()"
   ]
  },
  {
   "cell_type": "markdown",
   "id": "7caf1294",
   "metadata": {},
   "source": [
    " Why Use Nested Functions?\n",
    "- Encapsulation – Hide helper logic inside another function.\n",
    "\n",
    "- Cleaner Code – Keep related logic grouped together.\n",
    "\n",
    "- Closures – Inner function can remember values from the outer function (more on this below)."
   ]
  },
  {
   "cell_type": "markdown",
   "id": "059d7fe1",
   "metadata": {},
   "source": [
    "### Inner Function Can Access Outer Variables"
   ]
  },
  {
   "cell_type": "code",
   "execution_count": 43,
   "id": "07baf2a1",
   "metadata": {},
   "outputs": [],
   "source": [
    "def outer():\n",
    "    name = \"Roshan\"\n",
    "\n",
    "    def inner():\n",
    "        print(\"Hello\", name)  # Inner function uses outer variable\n",
    "\n",
    "    inner()\n"
   ]
  },
  {
   "cell_type": "code",
   "execution_count": 44,
   "id": "a0746289",
   "metadata": {},
   "outputs": [
    {
     "name": "stdout",
     "output_type": "stream",
     "text": [
      "Hello Roshan\n"
     ]
    }
   ],
   "source": [
    "outer()"
   ]
  },
  {
   "cell_type": "markdown",
   "id": "1b399068",
   "metadata": {},
   "source": [
    "- This is called a closure: the inner function “remembers” the variable from the outer function, even though it's not defined inside itself.\n",
    "\n"
   ]
  },
  {
   "cell_type": "markdown",
   "id": "ccef8114",
   "metadata": {},
   "source": [
    "__Summary:__\n",
    "- A nested function is a function inside another function.\n",
    "\n",
    "- It can access variables from the outer function.\n",
    "\n",
    "- Commonly used in decorators, closures, and to organize logic."
   ]
  },
  {
   "cell_type": "code",
   "execution_count": null,
   "id": "9352211c",
   "metadata": {},
   "outputs": [],
   "source": []
  }
 ],
 "metadata": {
  "kernelspec": {
   "display_name": "Python 3 (ipykernel)",
   "language": "python",
   "name": "python3"
  },
  "language_info": {
   "codemirror_mode": {
    "name": "ipython",
    "version": 3
   },
   "file_extension": ".py",
   "mimetype": "text/x-python",
   "name": "python",
   "nbconvert_exporter": "python",
   "pygments_lexer": "ipython3",
   "version": "3.9.7"
  }
 },
 "nbformat": 4,
 "nbformat_minor": 5
}
