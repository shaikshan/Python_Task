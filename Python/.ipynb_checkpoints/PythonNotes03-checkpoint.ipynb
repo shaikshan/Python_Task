{
 "cells": [
  {
   "cell_type": "markdown",
   "id": "4ca64afe",
   "metadata": {},
   "source": [
    "### For loops"
   ]
  },
  {
   "cell_type": "markdown",
   "id": "1228b832",
   "metadata": {},
   "source": [
    "A for loop in Python is used to repeat a block of code a specific number of times, usually by going through a sequence like a list, string, or range."
   ]
  },
  {
   "cell_type": "code",
   "execution_count": 1,
   "id": "f15bed5c",
   "metadata": {},
   "outputs": [
    {
     "name": "stdout",
     "output_type": "stream",
     "text": [
      "Hin\n",
      "Eng\n",
      "Math\n",
      "Sci\n",
      "Social\n"
     ]
    }
   ],
   "source": [
    "courses = ['Hin',\"Eng\", \"Math\", \"Sci\",\"Social\"]\n",
    "\n",
    "for item in courses:\n",
    "    print(item)"
   ]
  },
  {
   "cell_type": "code",
   "execution_count": 2,
   "id": "8c83638e",
   "metadata": {},
   "outputs": [
    {
     "name": "stdout",
     "output_type": "stream",
     "text": [
      "0\n",
      "1\n",
      "2\n",
      "3\n",
      "4\n"
     ]
    }
   ],
   "source": [
    "for i in range(5):\n",
    "    print(i)"
   ]
  },
  {
   "cell_type": "markdown",
   "id": "3dbed9c7",
   "metadata": {},
   "source": [
    "__Explanation:__\n",
    "\n",
    "range(5) gives numbers from 0 to 4.\n",
    "\n",
    "The loop runs 5 times.\n",
    "\n",
    "Each time, i takes the next value in the range.\n",
    "\n",
    "You use for loops when you know how many times you want to repeat something or want to go through items in a collection."
   ]
  },
  {
   "cell_type": "markdown",
   "id": "e837e7ad",
   "metadata": {},
   "source": [
    "### Enumerate function\n",
    "\n",
    "The `enumerate()` function in Python is used to loop through a list (or any iterable) and get both the index and the value at the same time."
   ]
  },
  {
   "cell_type": "code",
   "execution_count": 3,
   "id": "ed8c74cb",
   "metadata": {},
   "outputs": [
    {
     "name": "stdout",
     "output_type": "stream",
     "text": [
      "0 apple\n",
      "1 banana\n",
      "2 cherry\n"
     ]
    }
   ],
   "source": [
    "fruits = ['apple', 'banana', 'cherry']\n",
    "\n",
    "for index, fruit in enumerate(fruits):\n",
    "    print(index, fruit)\n"
   ]
  },
  {
   "cell_type": "markdown",
   "id": "7d750d1d",
   "metadata": {},
   "source": [
    "__Explanation:__\n",
    "enumerate(fruits) gives pairs: (0, 'apple'), (1, 'banana'), (2, 'cherry')\n",
    "\n",
    "So, index is the position, and fruit is the value.\n",
    "\n",
    "Use enumerate() when you want both index and item in a loop — it’s simpler and cleaner than using a separate counter."
   ]
  },
  {
   "cell_type": "markdown",
   "id": "42a71733",
   "metadata": {},
   "source": [
    "### Join method\n",
    "\n",
    "The join() method in Python is used to combine a list of strings into one single string, with a separator between each item."
   ]
  },
  {
   "cell_type": "code",
   "execution_count": 4,
   "id": "c3abb6f4",
   "metadata": {},
   "outputs": [
    {
     "name": "stdout",
     "output_type": "stream",
     "text": [
      "I love Python\n"
     ]
    }
   ],
   "source": [
    "words = ['I', 'love', 'Python']\n",
    "\n",
    "sentence = \" \".join(words)\n",
    "\n",
    "print(sentence)"
   ]
  },
  {
   "cell_type": "markdown",
   "id": "81a33e81",
   "metadata": {},
   "source": [
    "__Explanation:__\n",
    "\n",
    "`' '` is the separator (a space in this case).\n",
    "\n",
    "`join()` connects each word in the list with that space."
   ]
  },
  {
   "cell_type": "markdown",
   "id": "862baabc",
   "metadata": {},
   "source": [
    "#### Another Example (with comma):"
   ]
  },
  {
   "cell_type": "code",
   "execution_count": 5,
   "id": "dc7d93d6",
   "metadata": {},
   "outputs": [
    {
     "name": "stdout",
     "output_type": "stream",
     "text": [
      "apple, banana, cherry\n"
     ]
    }
   ],
   "source": [
    "items = ['apple', 'banana', 'cherry']\n",
    "result = ', '.join(items)\n",
    "print(result)\n"
   ]
  },
  {
   "cell_type": "markdown",
   "id": "4aaa656d",
   "metadata": {},
   "source": [
    "Use `join()` when you want to make a single string from a list of strings, like creating sentences or CSV lines."
   ]
  },
  {
   "cell_type": "markdown",
   "id": "770a094e",
   "metadata": {},
   "source": [
    "### Tuples \n",
    "\n",
    "+ Tuples are immutable, cannot be changed\n",
    "\n",
    "+ similar to list\n",
    "\n",
    "+ Instead of [ ] in list, in tuples we use ( )\n",
    "\n",
    "+ sort method cannot be used with tuples, but sorted function can be used"
   ]
  },
  {
   "cell_type": "code",
   "execution_count": 6,
   "id": "9fb9606b",
   "metadata": {},
   "outputs": [
    {
     "name": "stdout",
     "output_type": "stream",
     "text": [
      "('apple', 'banana', 'cherry')\n"
     ]
    }
   ],
   "source": [
    "my_tuple = ('apple', 'banana', 'cherry')\n",
    "print(my_tuple)"
   ]
  },
  {
   "cell_type": "markdown",
   "id": "6f9a748a",
   "metadata": {},
   "source": [
    " ### Accessing Items:"
   ]
  },
  {
   "cell_type": "code",
   "execution_count": 7,
   "id": "5867ad0e",
   "metadata": {},
   "outputs": [
    {
     "name": "stdout",
     "output_type": "stream",
     "text": [
      "banana\n"
     ]
    }
   ],
   "source": [
    "print(my_tuple[1])"
   ]
  },
  {
   "cell_type": "markdown",
   "id": "778faa35",
   "metadata": {},
   "source": [
    "###  Tuple with Different Data Types:"
   ]
  },
  {
   "cell_type": "code",
   "execution_count": 8,
   "id": "caab3eac",
   "metadata": {},
   "outputs": [],
   "source": [
    "person = ('John', 25, True)\n"
   ]
  },
  {
   "cell_type": "markdown",
   "id": "fb7c4000",
   "metadata": {},
   "source": [
    "### Single-Item Tuple (Important!):"
   ]
  },
  {
   "cell_type": "code",
   "execution_count": 9,
   "id": "86f5612a",
   "metadata": {},
   "outputs": [],
   "source": [
    "single = ('hello',)  # Don't forget the comma!\n"
   ]
  },
  {
   "cell_type": "markdown",
   "id": "26f2fec5",
   "metadata": {},
   "source": [
    "Without the comma, Python treats it as a string, not a tuple.\n",
    "\n",
    "- Why Use Tuples?\n",
    "- Faster than lists\n",
    "- Safer: values can't be changed by mistake"
   ]
  },
  {
   "cell_type": "markdown",
   "id": "38742cdd",
   "metadata": {},
   "source": [
    "### Set"
   ]
  },
  {
   "cell_type": "markdown",
   "id": "fbef386a",
   "metadata": {},
   "source": [
    "A set is a collection of unordered, unindexed, and unique items. It is written using curly braces `{}`."
   ]
  },
  {
   "cell_type": "code",
   "execution_count": 10,
   "id": "c77fad01",
   "metadata": {},
   "outputs": [
    {
     "name": "stdout",
     "output_type": "stream",
     "text": [
      "{'cherry', 'banana', 'apple'}\n"
     ]
    }
   ],
   "source": [
    "my_set = {'apple', 'banana', 'cherry'}\n",
    "print(my_set)\n"
   ]
  },
  {
   "cell_type": "markdown",
   "id": "9214d5e2",
   "metadata": {},
   "source": [
    "- No duplicate values\n",
    "\n",
    "- Order is not guaranteed\n",
    "\n",
    "- You can't access items by index"
   ]
  },
  {
   "cell_type": "markdown",
   "id": "558e676e",
   "metadata": {},
   "source": [
    "####  Duplicates are removed:"
   ]
  },
  {
   "cell_type": "code",
   "execution_count": 11,
   "id": "8446d47b",
   "metadata": {},
   "outputs": [
    {
     "name": "stdout",
     "output_type": "stream",
     "text": [
      "{'c', 'b', 'a'}\n"
     ]
    }
   ],
   "source": [
    "s = {'a', 'b', 'a', 'c'}\n",
    "print(s)\n"
   ]
  },
  {
   "cell_type": "markdown",
   "id": "d0f796ff",
   "metadata": {},
   "source": [
    "### Adding and Removing:"
   ]
  },
  {
   "cell_type": "code",
   "execution_count": 12,
   "id": "3d0551d1",
   "metadata": {},
   "outputs": [
    {
     "name": "stdout",
     "output_type": "stream",
     "text": [
      "{'cherry', 'apple'}\n"
     ]
    }
   ],
   "source": [
    "s = {'apple', 'banana'}\n",
    "s.add('cherry')\n",
    "s.remove('banana')\n",
    "print(s)\n"
   ]
  },
  {
   "cell_type": "markdown",
   "id": "c6a668c4",
   "metadata": {},
   "source": [
    "__Why Use Sets?__\n",
    "\n",
    "- To store unique values\n",
    "\n",
    "- For fast membership testing (if 'apple' in s)\n",
    "\n",
    "- To perform set operations like union, intersection"
   ]
  },
  {
   "cell_type": "markdown",
   "id": "d39d7b9e",
   "metadata": {},
   "source": [
    "### Union, Intersection, Difference"
   ]
  },
  {
   "cell_type": "code",
   "execution_count": 14,
   "id": "4c605a98",
   "metadata": {},
   "outputs": [
    {
     "name": "stdout",
     "output_type": "stream",
     "text": [
      "{'Math', 'His'}\n"
     ]
    }
   ],
   "source": [
    "set1 = {'His',\"Math\",'phy','Sci'}\n",
    "\n",
    "set2 = {'His','Art','Math','Design'}\n",
    "\n",
    "print(set1.intersection(set2))"
   ]
  },
  {
   "cell_type": "code",
   "execution_count": 15,
   "id": "53df4e8a",
   "metadata": {},
   "outputs": [
    {
     "name": "stdout",
     "output_type": "stream",
     "text": [
      "{'phy', 'Sci', 'His', 'Design', 'Math', 'Art'}\n"
     ]
    }
   ],
   "source": [
    "print(set1.union(set2))"
   ]
  },
  {
   "cell_type": "code",
   "execution_count": 16,
   "id": "27bcac15",
   "metadata": {},
   "outputs": [
    {
     "name": "stdout",
     "output_type": "stream",
     "text": [
      "{'phy', 'Sci'}\n"
     ]
    }
   ],
   "source": [
    "print(set1.difference(set2))"
   ]
  },
  {
   "cell_type": "markdown",
   "id": "328751ca",
   "metadata": {},
   "source": [
    "__you can create empty lists, tuple__"
   ]
  },
  {
   "cell_type": "code",
   "execution_count": 17,
   "id": "47c728fd",
   "metadata": {},
   "outputs": [],
   "source": [
    "empty_list = []\n",
    "\n",
    "empty_tuple = ()"
   ]
  },
  {
   "cell_type": "code",
   "execution_count": 18,
   "id": "1f0f807b",
   "metadata": {},
   "outputs": [
    {
     "name": "stdout",
     "output_type": "stream",
     "text": [
      "[]\n",
      "\n",
      "\n",
      "()\n"
     ]
    }
   ],
   "source": [
    "print(empty_list)\n",
    "\n",
    "print(\"\\n\")\n",
    "\n",
    "print(empty_tuple)"
   ]
  },
  {
   "cell_type": "markdown",
   "id": "15af7d5d",
   "metadata": {},
   "source": [
    "### Dictionary\n",
    "\n",
    "A dictionary is a collection of key-value pairs. It is unordered (in older versions), changeable, and does not allow duplicate keys.\n",
    "\n",
    "It is written using curly braces `{}` with keys and values separated by a colon `:`."
   ]
  },
  {
   "cell_type": "code",
   "execution_count": 19,
   "id": "5a0839fc",
   "metadata": {},
   "outputs": [
    {
     "name": "stdout",
     "output_type": "stream",
     "text": [
      "{'name': 'Alice', 'age': 25, 'city': 'New York'}\n"
     ]
    }
   ],
   "source": [
    "my_dict = {\n",
    "    'name': 'Alice',\n",
    "    'age': 25,\n",
    "    'city': 'New York'\n",
    "}\n",
    "\n",
    "print(my_dict)\n"
   ]
  },
  {
   "cell_type": "markdown",
   "id": "cea7c122",
   "metadata": {},
   "source": [
    "#### Accessing Values:"
   ]
  },
  {
   "cell_type": "code",
   "execution_count": 20,
   "id": "9adbcba1",
   "metadata": {},
   "outputs": [
    {
     "name": "stdout",
     "output_type": "stream",
     "text": [
      "Alice\n"
     ]
    }
   ],
   "source": [
    "print(my_dict['name'])  # Output: Alice"
   ]
  },
  {
   "cell_type": "markdown",
   "id": "484ca132",
   "metadata": {},
   "source": [
    "####  Adding or Updating:"
   ]
  },
  {
   "cell_type": "code",
   "execution_count": 21,
   "id": "f6e6d484",
   "metadata": {},
   "outputs": [],
   "source": [
    "my_dict['email'] = 'alice@example.com'\n",
    "my_dict['age'] = 26"
   ]
  },
  {
   "cell_type": "markdown",
   "id": "177da382",
   "metadata": {},
   "source": [
    "#### Removing Items:"
   ]
  },
  {
   "cell_type": "code",
   "execution_count": 22,
   "id": "d03f34c1",
   "metadata": {},
   "outputs": [],
   "source": [
    "del my_dict['city']\n"
   ]
  },
  {
   "cell_type": "code",
   "execution_count": 23,
   "id": "3f498857",
   "metadata": {},
   "outputs": [
    {
     "data": {
      "text/plain": [
       "{'name': 'Alice', 'age': 26, 'email': 'alice@example.com'}"
      ]
     },
     "execution_count": 23,
     "metadata": {},
     "output_type": "execute_result"
    }
   ],
   "source": [
    "my_dict"
   ]
  },
  {
   "cell_type": "markdown",
   "id": "b1cbe167",
   "metadata": {},
   "source": [
    "#### Looping Through Dictionary:"
   ]
  },
  {
   "cell_type": "code",
   "execution_count": 24,
   "id": "7afb531a",
   "metadata": {},
   "outputs": [
    {
     "name": "stdout",
     "output_type": "stream",
     "text": [
      "name Alice\n",
      "age 26\n",
      "email alice@example.com\n"
     ]
    }
   ],
   "source": [
    "for key, value in my_dict.items():\n",
    "    print(key, value)"
   ]
  },
  {
   "cell_type": "markdown",
   "id": "f7872ad1",
   "metadata": {},
   "source": [
    "Why Use Dictionaries?\n",
    "\n",
    "- To store related information using labels (keys)\n",
    "- For fast lookup by key\n",
    "- To represent real-world data (like JSON)"
   ]
  },
  {
   "cell_type": "markdown",
   "id": "ab869689",
   "metadata": {},
   "source": [
    "__you can create empty dictionary__"
   ]
  },
  {
   "cell_type": "code",
   "execution_count": 25,
   "id": "caafad24",
   "metadata": {},
   "outputs": [],
   "source": [
    "empty_dict = {}"
   ]
  },
  {
   "cell_type": "markdown",
   "id": "e15c4084",
   "metadata": {},
   "source": [
    "empty curly braces is a notation for dictionary not for set data type."
   ]
  },
  {
   "cell_type": "code",
   "execution_count": 26,
   "id": "cca1461e",
   "metadata": {},
   "outputs": [
    {
     "data": {
      "text/plain": [
       "dict"
      ]
     },
     "execution_count": 26,
     "metadata": {},
     "output_type": "execute_result"
    }
   ],
   "source": [
    "type(empty_dict)"
   ]
  },
  {
   "cell_type": "code",
   "execution_count": 27,
   "id": "f7547ed9",
   "metadata": {},
   "outputs": [
    {
     "name": "stdout",
     "output_type": "stream",
     "text": [
      "John\n"
     ]
    }
   ],
   "source": [
    "student = {'name':'John', 'age': 25, 'courses': ['Math',\"compsci\"]}\n",
    "\n",
    "print(student[\"name\"])"
   ]
  },
  {
   "cell_type": "markdown",
   "id": "98fd0d45",
   "metadata": {},
   "source": [
    " A key can be any mutable data type"
   ]
  },
  {
   "cell_type": "code",
   "execution_count": 29,
   "id": "dcbc7c83",
   "metadata": {},
   "outputs": [
    {
     "ename": "KeyError",
     "evalue": "'phone'",
     "output_type": "error",
     "traceback": [
      "\u001b[1;31m---------------------------------------------------------------------------\u001b[0m",
      "\u001b[1;31mKeyError\u001b[0m                                  Traceback (most recent call last)",
      "Cell \u001b[1;32mIn[29], line 2\u001b[0m\n\u001b[0;32m      1\u001b[0m \u001b[38;5;66;03m# If you try to access the key which is not defined in the dictionary it will gives the error.\u001b[39;00m\n\u001b[1;32m----> 2\u001b[0m \u001b[38;5;28mprint\u001b[39m(\u001b[43mstudent\u001b[49m\u001b[43m[\u001b[49m\u001b[38;5;124;43m'\u001b[39;49m\u001b[38;5;124;43mphone\u001b[39;49m\u001b[38;5;124;43m'\u001b[39;49m\u001b[43m]\u001b[49m)\n",
      "\u001b[1;31mKeyError\u001b[0m: 'phone'"
     ]
    }
   ],
   "source": [
    "# If you try to access the key which is not defined in the dictionary it will gives the error.\n",
    "print(student['phone'])"
   ]
  },
  {
   "cell_type": "markdown",
   "id": "17101d03",
   "metadata": {},
   "source": [
    "#### Get Method\n",
    "\n",
    "get method is used with dictionaries when we do not want the error for undeclared keys"
   ]
  },
  {
   "cell_type": "code",
   "execution_count": 30,
   "id": "0d370be9",
   "metadata": {},
   "outputs": [],
   "source": [
    "student = {'name':'John', 'age': 25, 'courses': ['Math',\"compsci\"]}\n",
    "\n",
    "\n",
    "student.get('phone')"
   ]
  },
  {
   "cell_type": "markdown",
   "id": "d3f19e49",
   "metadata": {},
   "source": [
    "__The phone key is not present in the dictionary but still it did not give you the error and we can set a customized message by using get method__"
   ]
  },
  {
   "cell_type": "code",
   "execution_count": 31,
   "id": "5c0e4b85",
   "metadata": {},
   "outputs": [
    {
     "name": "stdout",
     "output_type": "stream",
     "text": [
      "Not Found\n"
     ]
    }
   ],
   "source": [
    "message = student.get('phone','Not Found')\n",
    "print(message)"
   ]
  },
  {
   "cell_type": "markdown",
   "id": "ffba6935",
   "metadata": {},
   "source": [
    "#### Updating the existing dictionary"
   ]
  },
  {
   "cell_type": "code",
   "execution_count": 32,
   "id": "1afa22e5",
   "metadata": {},
   "outputs": [
    {
     "name": "stdout",
     "output_type": "stream",
     "text": [
      "{'name': 'Shan', 'age': 28, 'courses': ['Math', 'compsci'], 'phone': '555-000'}\n"
     ]
    }
   ],
   "source": [
    "student = {'name':'John', 'age': 25, 'courses': ['Math',\"compsci\"]}\n",
    "\n",
    "student.update({'name':'Shan','age': 28, 'phone': '555-000'})\n",
    "\n",
    "print(student)"
   ]
  },
  {
   "cell_type": "markdown",
   "id": "d7751743",
   "metadata": {},
   "source": [
    "We can also delete a key by using pop method"
   ]
  },
  {
   "cell_type": "code",
   "execution_count": 33,
   "id": "0474b974",
   "metadata": {},
   "outputs": [
    {
     "name": "stdout",
     "output_type": "stream",
     "text": [
      "28\n"
     ]
    }
   ],
   "source": [
    "out_age = student.pop('age')\n",
    "\n",
    "print(out_age)"
   ]
  },
  {
   "cell_type": "markdown",
   "id": "3e42d5a3",
   "metadata": {},
   "source": [
    "We can find the lenght of the dictionary"
   ]
  },
  {
   "cell_type": "code",
   "execution_count": 34,
   "id": "8037b335",
   "metadata": {},
   "outputs": [
    {
     "data": {
      "text/plain": [
       "3"
      ]
     },
     "execution_count": 34,
     "metadata": {},
     "output_type": "execute_result"
    }
   ],
   "source": [
    "len(student)"
   ]
  },
  {
   "cell_type": "markdown",
   "id": "807a3c9e",
   "metadata": {},
   "source": [
    "We can access the keys and the values of the dictionary seperately"
   ]
  },
  {
   "cell_type": "code",
   "execution_count": 35,
   "id": "568ac79b",
   "metadata": {},
   "outputs": [
    {
     "data": {
      "text/plain": [
       "dict_keys(['name', 'age', 'courses'])"
      ]
     },
     "execution_count": 35,
     "metadata": {},
     "output_type": "execute_result"
    }
   ],
   "source": [
    "student = {'name':'John', 'age': 25, 'courses': ['Math',\"compsci\"]}\n",
    "\n",
    "student.keys()"
   ]
  },
  {
   "cell_type": "code",
   "execution_count": 36,
   "id": "c744edf9",
   "metadata": {},
   "outputs": [
    {
     "data": {
      "text/plain": [
       "dict_values(['John', 25, ['Math', 'compsci']])"
      ]
     },
     "execution_count": 36,
     "metadata": {},
     "output_type": "execute_result"
    }
   ],
   "source": [
    "student.values()"
   ]
  },
  {
   "cell_type": "code",
   "execution_count": null,
   "id": "1844c01b",
   "metadata": {},
   "outputs": [],
   "source": []
  }
 ],
 "metadata": {
  "kernelspec": {
   "display_name": "Python 3 (ipykernel)",
   "language": "python",
   "name": "python3"
  },
  "language_info": {
   "codemirror_mode": {
    "name": "ipython",
    "version": 3
   },
   "file_extension": ".py",
   "mimetype": "text/x-python",
   "name": "python",
   "nbconvert_exporter": "python",
   "pygments_lexer": "ipython3",
   "version": "3.9.7"
  }
 },
 "nbformat": 4,
 "nbformat_minor": 5
}
