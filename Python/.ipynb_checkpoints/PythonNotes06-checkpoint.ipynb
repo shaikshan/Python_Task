{
 "cells": [
  {
   "cell_type": "markdown",
   "id": "e4f13544",
   "metadata": {},
   "source": [
    "### OOP\n",
    "\n",
    "- OOP (Object-Oriented Programming) is a programming style that is based on the concept of \"objects\", which combine data (variables) and behavior (functions/methods) into one unit.\n",
    "\n",
    "- Python supports OOP fully.\n",
    "\n",
    "####  Four Main OOP Concepts:\n",
    "\n",
    "__1. Class__\n",
    "- A blueprint for creating objects."
   ]
  },
  {
   "cell_type": "code",
   "execution_count": 1,
   "id": "d0929c06",
   "metadata": {},
   "outputs": [],
   "source": [
    "class Person:\n",
    "    pass\n"
   ]
  },
  {
   "cell_type": "markdown",
   "id": "12a3c062",
   "metadata": {},
   "source": [
    "__2. Object__\n",
    "- An instance of a class (real item created from the blueprint)."
   ]
  },
  {
   "cell_type": "code",
   "execution_count": 2,
   "id": "98831fdb",
   "metadata": {},
   "outputs": [],
   "source": [
    "p1 = Person()"
   ]
  },
  {
   "cell_type": "markdown",
   "id": "f02e3356",
   "metadata": {},
   "source": [
    "__3. Encapsulation__\n",
    "- Hiding internal details and protecting data using methods and access control."
   ]
  },
  {
   "cell_type": "code",
   "execution_count": 3,
   "id": "fedfde12",
   "metadata": {},
   "outputs": [],
   "source": [
    "class Person:\n",
    "    def __init__(self, name):\n",
    "        self.__name = name  # private variable\n",
    "\n",
    "    def get_name(self):\n",
    "        return self.__name\n"
   ]
  },
  {
   "cell_type": "markdown",
   "id": "42d6d1ff",
   "metadata": {},
   "source": [
    "__4. Inheritance__\n",
    "- Reusing code by creating a new class from an existing class."
   ]
  },
  {
   "cell_type": "code",
   "execution_count": 4,
   "id": "add6e3ed",
   "metadata": {},
   "outputs": [
    {
     "name": "stdout",
     "output_type": "stream",
     "text": [
      "Dog barks\n"
     ]
    }
   ],
   "source": [
    "class Animal:\n",
    "    def speak(self):\n",
    "        print(\"Animal speaks\")\n",
    "\n",
    "class Dog(Animal):\n",
    "    def speak(self):\n",
    "        print(\"Dog barks\")\n",
    "\n",
    "d = Dog()\n",
    "d.speak()"
   ]
  },
  {
   "cell_type": "markdown",
   "id": "7361e056",
   "metadata": {},
   "source": [
    "__5. Polymorphism__\n",
    "- One method, many forms — same method name behaves differently depending on the object."
   ]
  },
  {
   "cell_type": "code",
   "execution_count": 5,
   "id": "1dafbbe0",
   "metadata": {},
   "outputs": [
    {
     "name": "stdout",
     "output_type": "stream",
     "text": [
      "Quack\n"
     ]
    }
   ],
   "source": [
    "class Bird:\n",
    "    def sound(self):\n",
    "        print(\"Bird sound\")\n",
    "\n",
    "class Duck(Bird):\n",
    "    def sound(self):\n",
    "        print(\"Quack\")\n",
    "\n",
    "def make_sound(bird):\n",
    "    bird.sound()\n",
    "\n",
    "b = Duck()\n",
    "make_sound(b)\n"
   ]
  },
  {
   "cell_type": "code",
   "execution_count": 1,
   "id": "da12e677",
   "metadata": {},
   "outputs": [
    {
     "name": "stdout",
     "output_type": "stream",
     "text": [
      "1000 deposited. New balance: 11000\n",
      "330.0 deposited. New balance: 11330.0\n",
      "Interest added to savings account.\n",
      "Overdraft limit is ₹50,000\n",
      "Account Holder: Alice\n",
      "500 withdrawn. New balance: 10830.0\n",
      "Account Holder: Bob\n",
      "500 withdrawn. New balance: 14500\n"
     ]
    }
   ],
   "source": [
    "# 1. CLASS & ENCAPSULATION\n",
    "class BankAccount:\n",
    "    def __init__(self, name, balance):\n",
    "        self.__name = name             # private attribute\n",
    "        self.__balance = balance       # private attribute\n",
    "\n",
    "    def deposit(self, amount):\n",
    "        self.__balance += amount\n",
    "        print(f\"{amount} deposited. New balance: {self.__balance}\")\n",
    "\n",
    "    def withdraw(self, amount):\n",
    "        if amount <= self.__balance:\n",
    "            self.__balance -= amount\n",
    "            print(f\"{amount} withdrawn. New balance: {self.__balance}\")\n",
    "        else:\n",
    "            print(\"Insufficient balance!\")\n",
    "\n",
    "    def get_balance(self):\n",
    "        return self.__balance\n",
    "\n",
    "    def get_account_holder(self):\n",
    "        return self.__name\n",
    "\n",
    "# 2. INHERITANCE\n",
    "class SavingsAccount(BankAccount):\n",
    "    def __init__(self, name, balance):\n",
    "        super().__init__(name, balance)\n",
    "\n",
    "    def add_interest(self):\n",
    "        interest = self.get_balance() * 0.03\n",
    "        self.deposit(interest)\n",
    "        print(\"Interest added to savings account.\")\n",
    "\n",
    "class CurrentAccount(BankAccount):\n",
    "    def __init__(self, name, balance):\n",
    "        super().__init__(name, balance)\n",
    "\n",
    "    def overdraft_limit(self):\n",
    "        print(\"Overdraft limit is ₹50,000\")\n",
    "\n",
    "# 3. POLYMORPHISM\n",
    "def account_info(account):\n",
    "    print(\"Account Holder:\", account.get_account_holder())\n",
    "    account.withdraw(500)\n",
    "\n",
    "# 4. OBJECTS\n",
    "savings = SavingsAccount(\"Alice\", 10000)\n",
    "current = CurrentAccount(\"Bob\", 15000)\n",
    "\n",
    "# Working with savings account\n",
    "savings.deposit(1000)\n",
    "savings.add_interest()\n",
    "\n",
    "# Working with current account\n",
    "current.overdraft_limit()\n",
    "\n",
    "# Using polymorphism\n",
    "account_info(savings)\n",
    "account_info(current)\n"
   ]
  },
  {
   "cell_type": "code",
   "execution_count": null,
   "id": "684684ef",
   "metadata": {},
   "outputs": [],
   "source": []
  }
 ],
 "metadata": {
  "kernelspec": {
   "display_name": "Python 3 (ipykernel)",
   "language": "python",
   "name": "python3"
  },
  "language_info": {
   "codemirror_mode": {
    "name": "ipython",
    "version": 3
   },
   "file_extension": ".py",
   "mimetype": "text/x-python",
   "name": "python",
   "nbconvert_exporter": "python",
   "pygments_lexer": "ipython3",
   "version": "3.9.7"
  }
 },
 "nbformat": 4,
 "nbformat_minor": 5
}
