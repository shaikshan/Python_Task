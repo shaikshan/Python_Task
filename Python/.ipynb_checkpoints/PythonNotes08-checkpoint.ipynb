{
 "cells": [
  {
   "cell_type": "markdown",
   "id": "1a8d3d1d",
   "metadata": {},
   "source": [
    "### File Objects: Reading and Writing to files\n",
    "\n",
    "To open the file use:"
   ]
  },
  {
   "cell_type": "code",
   "execution_count": 3,
   "id": "ca6c019f",
   "metadata": {},
   "outputs": [],
   "source": [
    "f = open('test.txt')"
   ]
  },
  {
   "cell_type": "markdown",
   "id": "ff7d3df3",
   "metadata": {},
   "source": [
    "Need to pass the file path if the file is in other directory else just the file name."
   ]
  },
  {
   "cell_type": "markdown",
   "id": "76ac50d4",
   "metadata": {},
   "source": [
    "__We can open the file for reading, writing, and appending__"
   ]
  },
  {
   "cell_type": "markdown",
   "id": "aa4afbc6",
   "metadata": {},
   "source": [
    "- `\"r\"` is used to open the file in read mode \n",
    "- `\"w\"` is used to open the file in write mode  \n",
    "- `\"a\"` is used to open the file in append mode\n",
    "- `\"r+\"`is used to open the file in read and append mode \n",
    "-  The default is `\"read\"`"
   ]
  },
  {
   "cell_type": "code",
   "execution_count": null,
   "id": "e0c94ffe",
   "metadata": {},
   "outputs": [],
   "source": [
    "f.name"
   ]
  },
  {
   "cell_type": "markdown",
   "id": "61753d2a",
   "metadata": {},
   "source": [
    "Gives the name of the file"
   ]
  },
  {
   "cell_type": "code",
   "execution_count": 5,
   "id": "9326cc79",
   "metadata": {},
   "outputs": [],
   "source": [
    "f.close()"
   ]
  },
  {
   "cell_type": "markdown",
   "id": "d71e940f",
   "metadata": {},
   "source": [
    "Mandatory at the end of the code to close the file"
   ]
  },
  {
   "cell_type": "code",
   "execution_count": 6,
   "id": "dee73b88",
   "metadata": {},
   "outputs": [
    {
     "data": {
      "text/plain": [
       "'r'"
      ]
     },
     "execution_count": 6,
     "metadata": {},
     "output_type": "execute_result"
    }
   ],
   "source": [
    "f.mode"
   ]
  },
  {
   "cell_type": "markdown",
   "id": "384c269b",
   "metadata": {},
   "source": [
    "Give the present mode of the file"
   ]
  },
  {
   "cell_type": "markdown",
   "id": "a7eb902d",
   "metadata": {},
   "source": [
    "#### Context managers"
   ]
  },
  {
   "cell_type": "code",
   "execution_count": 7,
   "id": "563c0ca3",
   "metadata": {},
   "outputs": [
    {
     "name": "stdout",
     "output_type": "stream",
     "text": [
      "test.txt\n"
     ]
    }
   ],
   "source": [
    "with open('test.txt','r') as f:\n",
    "    print(f.name)"
   ]
  },
  {
   "cell_type": "markdown",
   "id": "8109990c",
   "metadata": {},
   "source": [
    "Context managers are considered as best practice, because it closes the opened file automatically at the end of the code as well as when it throws an exception."
   ]
  },
  {
   "cell_type": "code",
   "execution_count": 23,
   "id": "1b6e5b13",
   "metadata": {},
   "outputs": [],
   "source": [
    "f = open('test.txt','w')\n",
    "\n",
    "f.write(\"This is my first test.txt file\")\n",
    "f.close()"
   ]
  },
  {
   "cell_type": "code",
   "execution_count": 17,
   "id": "a803b29a",
   "metadata": {},
   "outputs": [
    {
     "name": "stdout",
     "output_type": "stream",
     "text": [
      "This is my first test.txt file\n"
     ]
    }
   ],
   "source": [
    "f = open('test.txt','r')\n",
    "f_contents = f.read()\n",
    "print(f_contents)\n",
    "f.close()"
   ]
  },
  {
   "cell_type": "code",
   "execution_count": 19,
   "id": "0893fda8",
   "metadata": {},
   "outputs": [
    {
     "name": "stdout",
     "output_type": "stream",
     "text": [
      "['This is my first test.txt file']\n"
     ]
    }
   ],
   "source": [
    "with open('test.txt','r') as f:\n",
    "    f_contents = f.readlines()\n",
    "    print(f_contents)"
   ]
  },
  {
   "cell_type": "markdown",
   "id": "94f377da",
   "metadata": {},
   "source": [
    "Gives out all the lines of the file in the form of items in a list"
   ]
  },
  {
   "cell_type": "code",
   "execution_count": 20,
   "id": "3e2a1607",
   "metadata": {},
   "outputs": [
    {
     "name": "stdout",
     "output_type": "stream",
     "text": [
      "This is my first test.txt file\n"
     ]
    }
   ],
   "source": [
    "with open('test.txt','r') as f:\n",
    "    f_contents = f.readline()\n",
    "    print(f_contents)"
   ]
  },
  {
   "cell_type": "markdown",
   "id": "50996bc1",
   "metadata": {},
   "source": [
    "reads the first line and every time it is called it reads the next line."
   ]
  },
  {
   "cell_type": "code",
   "execution_count": null,
   "id": "0ecc444b",
   "metadata": {},
   "outputs": [],
   "source": []
  },
  {
   "cell_type": "code",
   "execution_count": 25,
   "id": "1f229d95",
   "metadata": {},
   "outputs": [],
   "source": [
    "f = open('test.txt','a')\n",
    "f.write(\"This is my second line in test.txt file\")\n",
    "f.close()"
   ]
  },
  {
   "cell_type": "code",
   "execution_count": 31,
   "id": "614d4c2d",
   "metadata": {},
   "outputs": [
    {
     "name": "stdout",
     "output_type": "stream",
     "text": [
      "This is my first test.txt file.\n",
      "This is my second line in test.txt file"
     ]
    }
   ],
   "source": [
    "with open('test.txt','r') as f:\n",
    "    for line in f:\n",
    "        print(line,end=\"\")"
   ]
  },
  {
   "cell_type": "markdown",
   "id": "9d90b84a",
   "metadata": {},
   "source": [
    "prints all the lines of the file without loading the entire file into the memory"
   ]
  },
  {
   "cell_type": "code",
   "execution_count": 36,
   "id": "90422a37",
   "metadata": {},
   "outputs": [
    {
     "name": "stdout",
     "output_type": "stream",
     "text": [
      "This is my\n"
     ]
    }
   ],
   "source": [
    "f = open('test.txt','r')\n",
    "f_contents = f.read(10)\n",
    "print(f_contents)\n",
    "f.close()"
   ]
  },
  {
   "cell_type": "markdown",
   "id": "5eb07c51",
   "metadata": {},
   "source": [
    "Reads only 10 characters from the start."
   ]
  },
  {
   "cell_type": "code",
   "execution_count": 41,
   "id": "808ea388",
   "metadata": {},
   "outputs": [
    {
     "name": "stdout",
     "output_type": "stream",
     "text": [
      "This is my first test.txt file.\n",
      "This is my second line in test.txt file"
     ]
    }
   ],
   "source": [
    "size_to_read = 5\n",
    "f = open('test.txt','r')\n",
    "f_contents = f.read(size_to_read)\n",
    "\n",
    "while len(f_contents) > 0:\n",
    "    print(f_contents,end=\"\")\n",
    "    f_contents = f.read(size_to_read)"
   ]
  },
  {
   "cell_type": "markdown",
   "id": "58932756",
   "metadata": {},
   "source": [
    "To know where is the position of the marker in the file use:"
   ]
  },
  {
   "cell_type": "code",
   "execution_count": 42,
   "id": "c9acceae",
   "metadata": {},
   "outputs": [
    {
     "data": {
      "text/plain": [
       "71"
      ]
     },
     "execution_count": 42,
     "metadata": {},
     "output_type": "execute_result"
    }
   ],
   "source": [
    "f.tell()"
   ]
  },
  {
   "cell_type": "code",
   "execution_count": 43,
   "id": "9941e830",
   "metadata": {},
   "outputs": [],
   "source": [
    "f.close()"
   ]
  },
  {
   "cell_type": "code",
   "execution_count": 45,
   "id": "b5fe82e8",
   "metadata": {},
   "outputs": [
    {
     "name": "stdout",
     "output_type": "stream",
     "text": [
      "10\n",
      "20\n"
     ]
    }
   ],
   "source": [
    "with open('test.txt','r') as f:\n",
    "    size_to_read = 10\n",
    "    f_contents = f.read(size_to_read)\n",
    "    print(f.tell())\n",
    "    f_contents = f.read(size_to_read)\n",
    "    print(f.tell())"
   ]
  },
  {
   "cell_type": "code",
   "execution_count": 48,
   "id": "53468a1e",
   "metadata": {},
   "outputs": [
    {
     "data": {
      "text/plain": [
       "0"
      ]
     },
     "execution_count": 48,
     "metadata": {},
     "output_type": "execute_result"
    }
   ],
   "source": [
    "f = open('test.txt','r')\n",
    "\n",
    "f.seek(0)"
   ]
  },
  {
   "cell_type": "markdown",
   "id": "4c434aee",
   "metadata": {},
   "source": [
    "moves the reader pointer to zeroth index"
   ]
  },
  {
   "cell_type": "code",
   "execution_count": 50,
   "id": "ff638489",
   "metadata": {},
   "outputs": [
    {
     "name": "stdout",
     "output_type": "stream",
     "text": [
      "10\n",
      "0\n"
     ]
    }
   ],
   "source": [
    "f_contents = f.read(10)\n",
    "print(f.tell())\n",
    "\n",
    "f.seek(0)\n",
    "print(f.tell())"
   ]
  },
  {
   "cell_type": "code",
   "execution_count": 51,
   "id": "4f0ffcf1",
   "metadata": {},
   "outputs": [],
   "source": [
    "f.close()"
   ]
  },
  {
   "cell_type": "code",
   "execution_count": 52,
   "id": "c7bbd78e",
   "metadata": {},
   "outputs": [],
   "source": [
    "with open('test.txt','w') as f:\n",
    "    pass"
   ]
  },
  {
   "cell_type": "markdown",
   "id": "e61da472",
   "metadata": {},
   "source": [
    "If the file with name 'test.txt' doesn't exist, then a new file will be created else, the existing file will be overwritten"
   ]
  },
  {
   "cell_type": "code",
   "execution_count": 84,
   "id": "a7404beb",
   "metadata": {},
   "outputs": [
    {
     "data": {
      "text/plain": [
       "0"
      ]
     },
     "execution_count": 84,
     "metadata": {},
     "output_type": "execute_result"
    }
   ],
   "source": [
    "f = open('test.txt','r+')\n",
    "\n",
    "f.tell()"
   ]
  },
  {
   "cell_type": "code",
   "execution_count": 85,
   "id": "32ef785a",
   "metadata": {},
   "outputs": [
    {
     "data": {
      "text/plain": [
       "4"
      ]
     },
     "execution_count": 85,
     "metadata": {},
     "output_type": "execute_result"
    }
   ],
   "source": [
    "f.write('Test')"
   ]
  },
  {
   "cell_type": "code",
   "execution_count": 86,
   "id": "864f6eb5",
   "metadata": {},
   "outputs": [
    {
     "data": {
      "text/plain": [
       "4"
      ]
     },
     "execution_count": 86,
     "metadata": {},
     "output_type": "execute_result"
    }
   ],
   "source": [
    "f.write('Test')"
   ]
  },
  {
   "cell_type": "markdown",
   "id": "9526f296",
   "metadata": {},
   "source": [
    "All the previous data will be erased and only 'Test' will be present in the file"
   ]
  },
  {
   "cell_type": "code",
   "execution_count": 87,
   "id": "e6673798",
   "metadata": {},
   "outputs": [
    {
     "data": {
      "text/plain": [
       "'TestTestTest'"
      ]
     },
     "execution_count": 87,
     "metadata": {},
     "output_type": "execute_result"
    }
   ],
   "source": [
    "f.read()"
   ]
  },
  {
   "cell_type": "code",
   "execution_count": 88,
   "id": "2ee00bb1",
   "metadata": {},
   "outputs": [
    {
     "data": {
      "text/plain": [
       "0"
      ]
     },
     "execution_count": 88,
     "metadata": {},
     "output_type": "execute_result"
    }
   ],
   "source": [
    "f.seek(0)"
   ]
  },
  {
   "cell_type": "code",
   "execution_count": 89,
   "id": "e8330818",
   "metadata": {},
   "outputs": [
    {
     "data": {
      "text/plain": [
       "1"
      ]
     },
     "execution_count": 89,
     "metadata": {},
     "output_type": "execute_result"
    }
   ],
   "source": [
    "f.write('R')"
   ]
  },
  {
   "cell_type": "code",
   "execution_count": 93,
   "id": "05e933d7",
   "metadata": {},
   "outputs": [
    {
     "data": {
      "text/plain": [
       "0"
      ]
     },
     "execution_count": 93,
     "metadata": {},
     "output_type": "execute_result"
    }
   ],
   "source": [
    "f.seek(0)"
   ]
  },
  {
   "cell_type": "code",
   "execution_count": 94,
   "id": "e586a2c4",
   "metadata": {},
   "outputs": [
    {
     "data": {
      "text/plain": [
       "'RestTestTestTestTest'"
      ]
     },
     "execution_count": 94,
     "metadata": {},
     "output_type": "execute_result"
    }
   ],
   "source": [
    "f.read()"
   ]
  },
  {
   "cell_type": "code",
   "execution_count": 95,
   "id": "812ad4fa",
   "metadata": {},
   "outputs": [],
   "source": [
    "f.close()"
   ]
  },
  {
   "cell_type": "markdown",
   "id": "2b3687a5",
   "metadata": {},
   "source": [
    "__Make a copy of the existing file(text_file)__"
   ]
  },
  {
   "cell_type": "code",
   "execution_count": 96,
   "id": "8f6e2898",
   "metadata": {},
   "outputs": [],
   "source": [
    "with open('test.txt','r') as rf:\n",
    "    with open('test_copy.txt','w') as wf:\n",
    "        for line in rf:\n",
    "            wf.write(line)"
   ]
  },
  {
   "cell_type": "markdown",
   "id": "cf22c9ae",
   "metadata": {},
   "source": [
    "__Make a copy of the existing file(image_file)__"
   ]
  },
  {
   "cell_type": "code",
   "execution_count": 98,
   "id": "4ab23c64",
   "metadata": {},
   "outputs": [],
   "source": [
    "with open('nature.jpg','rb') as rf:\n",
    "    with open('nature_copy.jpg','wb') as wf:\n",
    "        for line in rf:\n",
    "            wf.write(line)"
   ]
  },
  {
   "cell_type": "markdown",
   "id": "e7dbbbcc",
   "metadata": {},
   "source": [
    "#### Alternate way:"
   ]
  },
  {
   "cell_type": "code",
   "execution_count": 101,
   "id": "b8757a09",
   "metadata": {},
   "outputs": [],
   "source": [
    "with open('nature.jpg','rb') as rf:\n",
    "    with open('nature_copy02.jpg','wb') as wf:\n",
    "        chunk_size = 4096\n",
    "        rf_chunk = rf.read(chunk_size)\n",
    "        while len(rf_chunk) > 0:\n",
    "            wf.write(rf_chunk)\n",
    "            rf_chunk = rf.read(chunk_size)"
   ]
  },
  {
   "cell_type": "code",
   "execution_count": null,
   "id": "73bdc1d8",
   "metadata": {},
   "outputs": [],
   "source": []
  }
 ],
 "metadata": {
  "kernelspec": {
   "display_name": "Python 3 (ipykernel)",
   "language": "python",
   "name": "python3"
  },
  "language_info": {
   "codemirror_mode": {
    "name": "ipython",
    "version": 3
   },
   "file_extension": ".py",
   "mimetype": "text/x-python",
   "name": "python",
   "nbconvert_exporter": "python",
   "pygments_lexer": "ipython3",
   "version": "3.9.7"
  }
 },
 "nbformat": 4,
 "nbformat_minor": 5
}
