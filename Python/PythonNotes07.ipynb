{
 "cells": [
  {
   "cell_type": "markdown",
   "id": "b72f3a71",
   "metadata": {},
   "source": [
    "### \"import\" statement\n",
    "\n",
    "The import statement is used to bring in Python modules (built-in or custom) so you can use their functions, classes, or variables.\n",
    "\n",
    "\n",
    "__Example 1: Importing a built-in module__"
   ]
  },
  {
   "cell_type": "code",
   "execution_count": 1,
   "id": "8cfcc937",
   "metadata": {},
   "outputs": [
    {
     "name": "stdout",
     "output_type": "stream",
     "text": [
      "4.0\n"
     ]
    }
   ],
   "source": [
    "import math\n",
    "\n",
    "print(math.sqrt(16))"
   ]
  },
  {
   "cell_type": "markdown",
   "id": "49bb2632",
   "metadata": {},
   "source": [
    "__Example 2: Importing specific items__"
   ]
  },
  {
   "cell_type": "code",
   "execution_count": 2,
   "id": "1935d7ca",
   "metadata": {},
   "outputs": [
    {
     "name": "stdout",
     "output_type": "stream",
     "text": [
      "3.141592653589793\n",
      "\n",
      "\n",
      "5.0\n"
     ]
    }
   ],
   "source": [
    "from math import pi, sqrt\n",
    "\n",
    "print(pi)\n",
    "\n",
    "print(\"\\n\")\n",
    "\n",
    "print(sqrt(25))"
   ]
  },
  {
   "cell_type": "markdown",
   "id": "3f48579f",
   "metadata": {},
   "source": [
    "__Example 3: Giving a module a short name (alias)__"
   ]
  },
  {
   "cell_type": "code",
   "execution_count": 3,
   "id": "cc7b61e5",
   "metadata": {},
   "outputs": [
    {
     "name": "stdout",
     "output_type": "stream",
     "text": [
      "120\n"
     ]
    }
   ],
   "source": [
    "import math as m\n",
    "\n",
    "print(m.factorial(5))"
   ]
  },
  {
   "cell_type": "markdown",
   "id": "8faa368a",
   "metadata": {},
   "source": [
    "### OS - Module"
   ]
  },
  {
   "cell_type": "code",
   "execution_count": 4,
   "id": "2faaed5b",
   "metadata": {},
   "outputs": [],
   "source": [
    "import os"
   ]
  },
  {
   "cell_type": "code",
   "execution_count": 5,
   "id": "fe54c25c",
   "metadata": {},
   "outputs": [
    {
     "name": "stdout",
     "output_type": "stream",
     "text": [
      "['DirEntry', 'F_OK', 'GenericAlias', 'Mapping', 'MutableMapping', 'O_APPEND', 'O_BINARY', 'O_CREAT', 'O_EXCL', 'O_NOINHERIT', 'O_RANDOM', 'O_RDONLY', 'O_RDWR', 'O_SEQUENTIAL', 'O_SHORT_LIVED', 'O_TEMPORARY', 'O_TEXT', 'O_TRUNC', 'O_WRONLY', 'P_DETACH', 'P_NOWAIT', 'P_NOWAITO', 'P_OVERLAY', 'P_WAIT', 'PathLike', 'R_OK', 'SEEK_CUR', 'SEEK_END', 'SEEK_SET', 'TMP_MAX', 'W_OK', 'X_OK', '_AddedDllDirectory', '_Environ', '__all__', '__builtins__', '__cached__', '__doc__', '__file__', '__loader__', '__name__', '__package__', '__spec__', '_check_methods', '_execvpe', '_exists', '_exit', '_fspath', '_get_exports_list', '_walk', '_wrap_close', 'abc', 'abort', 'access', 'add_dll_directory', 'altsep', 'chdir', 'chmod', 'close', 'closerange', 'cpu_count', 'curdir', 'defpath', 'device_encoding', 'devnull', 'dup', 'dup2', 'environ', 'error', 'execl', 'execle', 'execlp', 'execlpe', 'execv', 'execve', 'execvp', 'execvpe', 'extsep', 'fdopen', 'fsdecode', 'fsencode', 'fspath', 'fstat', 'fsync', 'ftruncate', 'get_exec_path', 'get_handle_inheritable', 'get_inheritable', 'get_terminal_size', 'getcwd', 'getcwdb', 'getenv', 'getlogin', 'getpid', 'getppid', 'isatty', 'kill', 'linesep', 'link', 'listdir', 'lseek', 'lstat', 'makedirs', 'mkdir', 'name', 'open', 'pardir', 'path', 'pathsep', 'pipe', 'popen', 'putenv', 'read', 'readlink', 'remove', 'removedirs', 'rename', 'renames', 'replace', 'rmdir', 'scandir', 'sep', 'set_handle_inheritable', 'set_inheritable', 'spawnl', 'spawnle', 'spawnv', 'spawnve', 'st', 'startfile', 'stat', 'stat_result', 'statvfs_result', 'strerror', 'supports_bytes_environ', 'supports_dir_fd', 'supports_effective_ids', 'supports_fd', 'supports_follow_symlinks', 'symlink', 'sys', 'system', 'terminal_size', 'times', 'times_result', 'truncate', 'umask', 'uname_result', 'unlink', 'unsetenv', 'urandom', 'utime', 'waitpid', 'waitstatus_to_exitcode', 'walk', 'write']\n"
     ]
    }
   ],
   "source": [
    "print(dir(os))"
   ]
  },
  {
   "cell_type": "markdown",
   "id": "703178d8",
   "metadata": {},
   "source": [
    "The output is, all the attributes and methods that we have access to within this module"
   ]
  },
  {
   "cell_type": "code",
   "execution_count": 6,
   "id": "55d18ad2",
   "metadata": {},
   "outputs": [
    {
     "name": "stdout",
     "output_type": "stream",
     "text": [
      "D:\\python_notes\\python_document\n"
     ]
    }
   ],
   "source": [
    "print(os.getcwd())"
   ]
  },
  {
   "cell_type": "markdown",
   "id": "9bf5f6e2",
   "metadata": {},
   "source": [
    "Gives the current working directory"
   ]
  },
  {
   "cell_type": "code",
   "execution_count": 9,
   "id": "9f1226d5",
   "metadata": {},
   "outputs": [],
   "source": [
    "os.chdir('D:\\python_notes')"
   ]
  },
  {
   "cell_type": "markdown",
   "id": "3e7d51d6",
   "metadata": {},
   "source": [
    "passing the required directory in the form of the string, changes the current working directory to required one.\n",
    "\n",
    "Now, if you check the dir is changed from `\"D:\\python_notes\\python_document\"` to `\"D:\\python_notes\"`"
   ]
  },
  {
   "cell_type": "code",
   "execution_count": 10,
   "id": "c275f79e",
   "metadata": {},
   "outputs": [
    {
     "data": {
      "text/plain": [
       "'D:\\\\python_notes'"
      ]
     },
     "execution_count": 10,
     "metadata": {},
     "output_type": "execute_result"
    }
   ],
   "source": [
    "os.getcwd()"
   ]
  },
  {
   "cell_type": "code",
   "execution_count": 11,
   "id": "2d7eeadc",
   "metadata": {},
   "outputs": [],
   "source": [
    "os.chdir(\"D:\\python_notes\\python_document\")"
   ]
  },
  {
   "cell_type": "markdown",
   "id": "4a86aa01",
   "metadata": {},
   "source": [
    "os.getcwd()"
   ]
  },
  {
   "cell_type": "markdown",
   "id": "90c03d7e",
   "metadata": {},
   "source": [
    " > __If you want to list all the files and folders in the current working directory use:__"
   ]
  },
  {
   "cell_type": "code",
   "execution_count": 13,
   "id": "c910578c",
   "metadata": {},
   "outputs": [
    {
     "name": "stdout",
     "output_type": "stream",
     "text": [
      "['.ipynb_checkpoints', 'PythonNotes01.ipynb', 'PythonNotes02.ipynb', 'PythonNotes03.ipynb', 'PythonNotes04.ipynb', 'PythonNotes05.ipynb', 'PythonNotes06.ipynb', 'PythonNotes07.ipynb']\n"
     ]
    }
   ],
   "source": [
    "L = os.listdir()\n",
    "print(L)"
   ]
  },
  {
   "cell_type": "markdown",
   "id": "bb007ce7",
   "metadata": {},
   "source": [
    "To Create the single directory"
   ]
  },
  {
   "cell_type": "code",
   "execution_count": 14,
   "id": "3d64313e",
   "metadata": {},
   "outputs": [],
   "source": [
    "os.mkdir('dir_name')"
   ]
  },
  {
   "cell_type": "markdown",
   "id": "d64ddd59",
   "metadata": {},
   "source": [
    "To create multiple directories"
   ]
  },
  {
   "cell_type": "code",
   "execution_count": 16,
   "id": "c17b9946",
   "metadata": {},
   "outputs": [],
   "source": [
    "os.makedirs(\"dir_name/sub_dir_name\")"
   ]
  },
  {
   "cell_type": "markdown",
   "id": "a997b4ec",
   "metadata": {},
   "source": [
    "Both the statements generate a new folder in the current working directory, but make dirs is used when we want to create directories at a deeper level (i.e; sub directories) as well"
   ]
  },
  {
   "cell_type": "code",
   "execution_count": 17,
   "id": "8698e6df",
   "metadata": {},
   "outputs": [],
   "source": [
    "os.rmdir('dir_name/sub_dir_name/')"
   ]
  },
  {
   "cell_type": "markdown",
   "id": "2fc42a0e",
   "metadata": {},
   "source": [
    "The above line delete a directory folder in the existing directory"
   ]
  },
  {
   "cell_type": "code",
   "execution_count": 19,
   "id": "1bff497c",
   "metadata": {},
   "outputs": [
    {
     "data": {
      "text/plain": [
       "'D:\\\\python_notes\\\\python_document'"
      ]
     },
     "execution_count": 19,
     "metadata": {},
     "output_type": "execute_result"
    }
   ],
   "source": [
    "os.getcwd()"
   ]
  },
  {
   "cell_type": "code",
   "execution_count": 24,
   "id": "f8098c1e",
   "metadata": {},
   "outputs": [],
   "source": [
    "os.mkdir('old_dir')"
   ]
  },
  {
   "cell_type": "code",
   "execution_count": 27,
   "id": "f2e5c4dc",
   "metadata": {},
   "outputs": [],
   "source": [
    "os.rmdir('new_dir')"
   ]
  },
  {
   "cell_type": "markdown",
   "id": "bc792d23",
   "metadata": {},
   "source": [
    "To rename the directory name use:"
   ]
  },
  {
   "cell_type": "code",
   "execution_count": 29,
   "id": "f3a52a1c",
   "metadata": {},
   "outputs": [],
   "source": [
    "os.rename('D:\\\\python_notes\\\\python_document\\\\old_dir','D:\\\\python_notes\\\\python_document\\\\new_dir')"
   ]
  },
  {
   "cell_type": "code",
   "execution_count": 30,
   "id": "77ed7e06",
   "metadata": {},
   "outputs": [
    {
     "data": {
      "text/plain": [
       "['.ipynb_checkpoints',\n",
       " 'dir_name',\n",
       " 'new_dir',\n",
       " 'PythonNotes01.ipynb',\n",
       " 'PythonNotes02.ipynb',\n",
       " 'PythonNotes03.ipynb',\n",
       " 'PythonNotes04.ipynb',\n",
       " 'PythonNotes05.ipynb',\n",
       " 'PythonNotes06.ipynb',\n",
       " 'PythonNotes07.ipynb']"
      ]
     },
     "execution_count": 30,
     "metadata": {},
     "output_type": "execute_result"
    }
   ],
   "source": [
    "os.listdir()"
   ]
  },
  {
   "cell_type": "markdown",
   "id": "55036be5",
   "metadata": {},
   "source": [
    "To output the size of the file use:"
   ]
  },
  {
   "cell_type": "code",
   "execution_count": 31,
   "id": "12c0006b",
   "metadata": {},
   "outputs": [
    {
     "data": {
      "text/plain": [
       "86039"
      ]
     },
     "execution_count": 31,
     "metadata": {},
     "output_type": "execute_result"
    }
   ],
   "source": [
    "os.stat('PythonNotes01.ipynb').st_size"
   ]
  },
  {
   "cell_type": "code",
   "execution_count": 32,
   "id": "7c73e40e",
   "metadata": {},
   "outputs": [
    {
     "data": {
      "text/plain": [
       "84.0224609375"
      ]
     },
     "execution_count": 32,
     "metadata": {},
     "output_type": "execute_result"
    }
   ],
   "source": [
    "86039/1024"
   ]
  },
  {
   "cell_type": "code",
   "execution_count": 33,
   "id": "8a9cca42",
   "metadata": {},
   "outputs": [],
   "source": [
    "from datetime import datetime"
   ]
  },
  {
   "cell_type": "code",
   "execution_count": 34,
   "id": "f89c4dcc",
   "metadata": {},
   "outputs": [
    {
     "name": "stdout",
     "output_type": "stream",
     "text": [
      "1754400133.358449\n"
     ]
    }
   ],
   "source": [
    "modified_time = os.stat('PythonNotes01.ipynb').st_mtime\n",
    "\n",
    "print(modified_time)"
   ]
  },
  {
   "cell_type": "markdown",
   "id": "24af34ae",
   "metadata": {},
   "source": [
    "Output is the time stamp of the last modification, to understand this use:"
   ]
  },
  {
   "cell_type": "code",
   "execution_count": 35,
   "id": "9aa5e357",
   "metadata": {},
   "outputs": [
    {
     "name": "stdout",
     "output_type": "stream",
     "text": [
      "2025-08-05 18:52:13.358449\n"
     ]
    }
   ],
   "source": [
    "print(datetime.fromtimestamp(modified_time))"
   ]
  },
  {
   "cell_type": "code",
   "execution_count": 53,
   "id": "3e3e81c7",
   "metadata": {},
   "outputs": [],
   "source": [
    "#os.environ"
   ]
  },
  {
   "cell_type": "markdown",
   "id": "ca16fff2",
   "metadata": {},
   "source": [
    "Gives the location of all enviroment varaibles"
   ]
  },
  {
   "cell_type": "code",
   "execution_count": 39,
   "id": "98753e4e",
   "metadata": {},
   "outputs": [
    {
     "name": "stdout",
     "output_type": "stream",
     "text": [
      "\\Users\\Munna\n"
     ]
    }
   ],
   "source": [
    "print(os.environ.get('HOMEPATH'))"
   ]
  },
  {
   "cell_type": "code",
   "execution_count": 40,
   "id": "fcc92e74",
   "metadata": {},
   "outputs": [
    {
     "data": {
      "text/plain": [
       "'D:\\\\python_notes\\\\python_document'"
      ]
     },
     "execution_count": 40,
     "metadata": {},
     "output_type": "execute_result"
    }
   ],
   "source": [
    "os.getcwd()"
   ]
  },
  {
   "cell_type": "markdown",
   "id": "cee3c295",
   "metadata": {},
   "source": [
    "To join the path with the file name test.txt use:"
   ]
  },
  {
   "cell_type": "code",
   "execution_count": 41,
   "id": "6b59d55c",
   "metadata": {},
   "outputs": [
    {
     "name": "stdout",
     "output_type": "stream",
     "text": [
      "D:\\python_notes\\python_document\\test.txt\n"
     ]
    }
   ],
   "source": [
    "file_name = 'test.txt'\n",
    "\n",
    "file_path = os.path.join('D:\\\\python_notes\\\\python_document','test.txt')\n",
    "\n",
    "print(file_path)"
   ]
  },
  {
   "cell_type": "markdown",
   "id": "817800c8",
   "metadata": {},
   "source": [
    "Here we have only created the path, to make exist this folders and file we have to create folders first and then we should create the file."
   ]
  },
  {
   "cell_type": "markdown",
   "id": "6c935a3f",
   "metadata": {},
   "source": [
    "To print the basename of the file use:"
   ]
  },
  {
   "cell_type": "code",
   "execution_count": 42,
   "id": "d4bfd363",
   "metadata": {},
   "outputs": [
    {
     "data": {
      "text/plain": [
       "'test.txt'"
      ]
     },
     "execution_count": 42,
     "metadata": {},
     "output_type": "execute_result"
    }
   ],
   "source": [
    "os.path.basename(file_path)"
   ]
  },
  {
   "cell_type": "markdown",
   "id": "e33a4f17",
   "metadata": {},
   "source": [
    "To print the directory name of the given path use:"
   ]
  },
  {
   "cell_type": "code",
   "execution_count": 43,
   "id": "fad796a9",
   "metadata": {},
   "outputs": [
    {
     "data": {
      "text/plain": [
       "'D:\\\\python_notes\\\\python_document'"
      ]
     },
     "execution_count": 43,
     "metadata": {},
     "output_type": "execute_result"
    }
   ],
   "source": [
    "os.path.dirname(file_path)"
   ]
  },
  {
   "cell_type": "raw",
   "id": "2776307b",
   "metadata": {},
   "source": [
    "To print the dir_name and base name as two seperate entities use:"
   ]
  },
  {
   "cell_type": "code",
   "execution_count": 44,
   "id": "713e5366",
   "metadata": {},
   "outputs": [
    {
     "data": {
      "text/plain": [
       "('D:\\\\python_notes\\\\python_document', 'test.txt')"
      ]
     },
     "execution_count": 44,
     "metadata": {},
     "output_type": "execute_result"
    }
   ],
   "source": [
    "os.path.split(file_path)"
   ]
  },
  {
   "cell_type": "markdown",
   "id": "8a1826ff",
   "metadata": {},
   "source": [
    "To check the path exist or not use:"
   ]
  },
  {
   "cell_type": "code",
   "execution_count": 45,
   "id": "df1666af",
   "metadata": {},
   "outputs": [
    {
     "data": {
      "text/plain": [
       "False"
      ]
     },
     "execution_count": 45,
     "metadata": {},
     "output_type": "execute_result"
    }
   ],
   "source": [
    "os.path.exists(file_path)"
   ]
  },
  {
   "cell_type": "markdown",
   "id": "41c2e3a5",
   "metadata": {},
   "source": [
    "To check the specified path is a directory or not use:"
   ]
  },
  {
   "cell_type": "code",
   "execution_count": 50,
   "id": "8f376878",
   "metadata": {},
   "outputs": [],
   "source": [
    "folder_path = \"D:\\\\python_notes\\\\python_document\""
   ]
  },
  {
   "cell_type": "code",
   "execution_count": 49,
   "id": "597642c4",
   "metadata": {},
   "outputs": [
    {
     "data": {
      "text/plain": [
       "'D:\\\\python_notes\\\\python_document'"
      ]
     },
     "execution_count": 49,
     "metadata": {},
     "output_type": "execute_result"
    }
   ],
   "source": [
    "os.getcwd()"
   ]
  },
  {
   "cell_type": "code",
   "execution_count": 51,
   "id": "ecd9d911",
   "metadata": {},
   "outputs": [
    {
     "data": {
      "text/plain": [
       "True"
      ]
     },
     "execution_count": 51,
     "metadata": {},
     "output_type": "execute_result"
    }
   ],
   "source": [
    "os.path.isdir(folder_path)"
   ]
  },
  {
   "cell_type": "code",
   "execution_count": 52,
   "id": "36b33ac6",
   "metadata": {},
   "outputs": [
    {
     "data": {
      "text/plain": [
       "False"
      ]
     },
     "execution_count": 52,
     "metadata": {},
     "output_type": "execute_result"
    }
   ],
   "source": [
    "os.path.isfile(file_path)"
   ]
  },
  {
   "cell_type": "code",
   "execution_count": 54,
   "id": "32c78971",
   "metadata": {},
   "outputs": [
    {
     "data": {
      "text/plain": [
       "('/tmp/test', '.txt')"
      ]
     },
     "execution_count": 54,
     "metadata": {},
     "output_type": "execute_result"
    }
   ],
   "source": [
    "os.path.splitext('/tmp/test.txt')"
   ]
  },
  {
   "cell_type": "code",
   "execution_count": null,
   "id": "647a4496",
   "metadata": {},
   "outputs": [],
   "source": []
  }
 ],
 "metadata": {
  "kernelspec": {
   "display_name": "Python 3 (ipykernel)",
   "language": "python",
   "name": "python3"
  },
  "language_info": {
   "codemirror_mode": {
    "name": "ipython",
    "version": 3
   },
   "file_extension": ".py",
   "mimetype": "text/x-python",
   "name": "python",
   "nbconvert_exporter": "python",
   "pygments_lexer": "ipython3",
   "version": "3.9.7"
  }
 },
 "nbformat": 4,
 "nbformat_minor": 5
}
