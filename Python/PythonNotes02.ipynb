{
 "cells": [
  {
   "cell_type": "markdown",
   "id": "774da61c",
   "metadata": {},
   "source": [
    "### Lists\n",
    "\n",
    "Lists is a data type in python. It is used to store single or multiple values. Values can be int, float, string etc.;\n",
    "\n",
    "`For Example:`"
   ]
  },
  {
   "cell_type": "code",
   "execution_count": 1,
   "id": "c68a8eea",
   "metadata": {},
   "outputs": [
    {
     "name": "stdout",
     "output_type": "stream",
     "text": [
      "['History', 'Math', 'physics', 'CompSci']\n"
     ]
    }
   ],
   "source": [
    "courses = ['History','Math','physics','CompSci']\n",
    "\n",
    "print(courses)"
   ]
  },
  {
   "cell_type": "markdown",
   "id": "b7239863",
   "metadata": {},
   "source": [
    "You can print lenght of the list and can slice it by using indexes"
   ]
  },
  {
   "cell_type": "code",
   "execution_count": 2,
   "id": "548dec56",
   "metadata": {},
   "outputs": [
    {
     "name": "stdout",
     "output_type": "stream",
     "text": [
      "4\n"
     ]
    }
   ],
   "source": [
    "print(len(courses))"
   ]
  },
  {
   "cell_type": "code",
   "execution_count": 4,
   "id": "fe0e63af",
   "metadata": {},
   "outputs": [
    {
     "name": "stdout",
     "output_type": "stream",
     "text": [
      "History\n"
     ]
    }
   ],
   "source": [
    "print(courses[0])"
   ]
  },
  {
   "cell_type": "code",
   "execution_count": 5,
   "id": "1192cab4",
   "metadata": {},
   "outputs": [
    {
     "name": "stdout",
     "output_type": "stream",
     "text": [
      "CompSci\n"
     ]
    }
   ],
   "source": [
    "print(courses[3])"
   ]
  },
  {
   "cell_type": "code",
   "execution_count": 6,
   "id": "70caa27d",
   "metadata": {},
   "outputs": [
    {
     "name": "stdout",
     "output_type": "stream",
     "text": [
      "CompSci\n"
     ]
    }
   ],
   "source": [
    "print(courses[-1])"
   ]
  },
  {
   "cell_type": "markdown",
   "id": "53316e6f",
   "metadata": {},
   "source": [
    "In the above example `print(courses[-1])` is equal to `print(courses[3])`. If you want to slice it by end of the list, you can use negative indexing."
   ]
  },
  {
   "cell_type": "markdown",
   "id": "b5df157a",
   "metadata": {},
   "source": [
    "#### Append\n",
    "\n",
    "we can append not just element but also another list."
   ]
  },
  {
   "cell_type": "code",
   "execution_count": 7,
   "id": "4066c5fb",
   "metadata": {},
   "outputs": [
    {
     "name": "stdout",
     "output_type": "stream",
     "text": [
      "['History', 'Math', 'physics', 'CompSci', 'Social']\n"
     ]
    }
   ],
   "source": [
    "courses = ['History','Math','physics','CompSci']\n",
    "\n",
    "courses.append('Social')\n",
    "\n",
    "print(courses)"
   ]
  },
  {
   "cell_type": "markdown",
   "id": "802dd9f9",
   "metadata": {},
   "source": [
    "\"__append__\" method adds an element to the current list at the end.\n",
    "\n",
    "### Insert\n",
    "\n",
    "You can \"__insert__\" a list in a particular index or location."
   ]
  },
  {
   "cell_type": "code",
   "execution_count": 8,
   "id": "69eddeef",
   "metadata": {},
   "outputs": [
    {
     "name": "stdout",
     "output_type": "stream",
     "text": [
      "['Tel', 'Hin', 'English', 'Math', 'Sci', 'Soc']\n"
     ]
    }
   ],
   "source": [
    "courses = ['Tel','Hin','Math', 'Sci', 'Soc']\n",
    "\n",
    "courses.insert(2,'English')\n",
    "\n",
    "print(courses)"
   ]
  },
  {
   "cell_type": "code",
   "execution_count": 9,
   "id": "a87f8f6b",
   "metadata": {},
   "outputs": [
    {
     "name": "stdout",
     "output_type": "stream",
     "text": [
      "['Tel', 'Hin', 'Eng', ['Math', 'Sci', 'Social']]\n"
     ]
    }
   ],
   "source": [
    "courses = ['Tel', 'Hin', \"Eng\"]\n",
    "\n",
    "spc_courses = ['Math', 'Sci',\"Social\"]\n",
    "\n",
    "courses.insert(3, spc_courses)\n",
    "\n",
    "print(courses)"
   ]
  },
  {
   "cell_type": "markdown",
   "id": "10208ee8",
   "metadata": {},
   "source": [
    "The entire list of spc_courses is fitted into \"index 3\" of the courses"
   ]
  },
  {
   "cell_type": "code",
   "execution_count": 10,
   "id": "d1890024",
   "metadata": {},
   "outputs": [
    {
     "name": "stdout",
     "output_type": "stream",
     "text": [
      "['Math', 'Sci', 'Social']\n"
     ]
    }
   ],
   "source": [
    "courses = ['Tel', 'Hin', \"Eng\"]\n",
    "\n",
    "spc_courses = ['Math', 'Sci',\"Social\"]\n",
    "\n",
    "courses.insert(3, spc_courses)\n",
    "\n",
    "print(courses[3])"
   ]
  },
  {
   "cell_type": "code",
   "execution_count": 14,
   "id": "911b9fb4",
   "metadata": {},
   "outputs": [
    {
     "name": "stdout",
     "output_type": "stream",
     "text": [
      "['Tel', 'Hin', 'Eng', ['Math', 'Sci', 'Social']]\n",
      "\n",
      "\n",
      "['Math', 'Sci', 'Social']\n"
     ]
    }
   ],
   "source": [
    "courses = ['Tel', 'Hin', \"Eng\"]\n",
    "\n",
    "spc_courses = ['Math', 'Sci',\"Social\"]\n",
    "\n",
    "courses.append(spc_courses)\n",
    "\n",
    "print(courses)\n",
    "\n",
    "print(\"\\n\")\n",
    "\n",
    "print(courses[3])"
   ]
  },
  {
   "cell_type": "markdown",
   "id": "7b4c93ce",
   "metadata": {},
   "source": [
    "### Pop \n",
    "\n",
    "To remove the element from the list we can use pop method. It will remove the last element of the list and gives the popped element as output."
   ]
  },
  {
   "cell_type": "code",
   "execution_count": 20,
   "id": "0e265c9c",
   "metadata": {},
   "outputs": [
    {
     "name": "stdout",
     "output_type": "stream",
     "text": [
      "Soc\n"
     ]
    }
   ],
   "source": [
    "courses = ['Tel','Hin','Math', 'Sci', 'Soc']\n",
    "\n",
    "popped = courses.pop()\n",
    "\n",
    "print(popped)"
   ]
  },
  {
   "cell_type": "markdown",
   "id": "02da4c35",
   "metadata": {},
   "source": [
    "### Remove \n",
    "\n",
    "We can specify which element we should remove in the list by using the remove method"
   ]
  },
  {
   "cell_type": "code",
   "execution_count": 19,
   "id": "ba048349",
   "metadata": {},
   "outputs": [
    {
     "name": "stdout",
     "output_type": "stream",
     "text": [
      "['Tel', 'Hin', 'Math']\n"
     ]
    }
   ],
   "source": [
    "courses = ['Tel','Hin','Math', 'Sci', 'Soc']\n",
    "\n",
    "courses.remove(courses[4])\n",
    "\n",
    "courses.remove('Sci')\n",
    "\n",
    "print(courses)"
   ]
  },
  {
   "cell_type": "markdown",
   "id": "946d0be7",
   "metadata": {},
   "source": [
    "### Reverse method\n",
    "\n",
    "Reverse method is used to reverse the list"
   ]
  },
  {
   "cell_type": "code",
   "execution_count": 21,
   "id": "6151ebef",
   "metadata": {},
   "outputs": [
    {
     "name": "stdout",
     "output_type": "stream",
     "text": [
      "['Soc', 'Sci', 'Math', 'Hin', 'Tel']\n"
     ]
    }
   ],
   "source": [
    "courses = ['Tel','Hin','Math', 'Sci', 'Soc']\n",
    "\n",
    "courses.reverse()\n",
    "\n",
    "print(courses)"
   ]
  },
  {
   "cell_type": "markdown",
   "id": "aa70691e",
   "metadata": {},
   "source": [
    "### Sorting\n",
    "\n",
    "This will sort the list in the alphabetical order for letters and ascending order for numbers"
   ]
  },
  {
   "cell_type": "code",
   "execution_count": 24,
   "id": "25a55b3c",
   "metadata": {},
   "outputs": [
    {
     "name": "stdout",
     "output_type": "stream",
     "text": [
      "['Hin', 'Math', 'Sci', 'Soc', 'Tel']\n"
     ]
    }
   ],
   "source": [
    "courses = ['Tel','Hin','Math', 'Sci', 'Soc']\n",
    "\n",
    "courses.sort()\n",
    "\n",
    "print(courses)"
   ]
  },
  {
   "cell_type": "code",
   "execution_count": 23,
   "id": "2695334b",
   "metadata": {},
   "outputs": [
    {
     "name": "stdout",
     "output_type": "stream",
     "text": [
      "[1, 2, 3, 4, 5]\n"
     ]
    }
   ],
   "source": [
    "nums = [1,3,4,5,2]\n",
    "\n",
    "nums.sort()\n",
    "\n",
    "print(nums)"
   ]
  },
  {
   "cell_type": "markdown",
   "id": "749e7159",
   "metadata": {},
   "source": [
    "__We can also sort the list in the reverse order__\n",
    "\n",
    "`For Example`"
   ]
  },
  {
   "cell_type": "code",
   "execution_count": 25,
   "id": "d1c38eb6",
   "metadata": {},
   "outputs": [
    {
     "name": "stdout",
     "output_type": "stream",
     "text": [
      "[5, 4, 3, 2, 1]\n"
     ]
    }
   ],
   "source": [
    "nums = [1,3,4,5,2]\n",
    "\n",
    "nums.sort(reverse=True)\n",
    "\n",
    "print(nums)"
   ]
  },
  {
   "cell_type": "markdown",
   "id": "d922bc5b",
   "metadata": {},
   "source": [
    "In the sort method, the given list is sorted and the initial unsorted list is overwritten"
   ]
  },
  {
   "cell_type": "markdown",
   "id": "d575b115",
   "metadata": {},
   "source": [
    "### Sorted\n",
    "\n",
    "This method will sort the list but, it will not overwrite the list. So after sorting the list to reflect the changes we should store it in the variable.\n",
    "\n",
    "Sorted function can be used to generate the new list which is sorted without disturbing the existing list."
   ]
  },
  {
   "cell_type": "code",
   "execution_count": 27,
   "id": "d543420f",
   "metadata": {},
   "outputs": [
    {
     "name": "stdout",
     "output_type": "stream",
     "text": [
      "['Tel', 'Hin', 'Math', 'Sci', 'Soc']\n",
      "\n",
      "\n",
      "['Hin', 'Math', 'Sci', 'Soc', 'Tel']\n"
     ]
    }
   ],
   "source": [
    "courses = ['Tel','Hin','Math', 'Sci', 'Soc']\n",
    "\n",
    "sorted(courses)\n",
    "\n",
    "print(courses)\n",
    "\n",
    "courses2 = sorted(courses)\n",
    "\n",
    "print(\"\\n\")\n",
    "\n",
    "print(courses2)"
   ]
  },
  {
   "cell_type": "markdown",
   "id": "58d9b7fb",
   "metadata": {},
   "source": [
    "### Min , Max, Sum"
   ]
  },
  {
   "cell_type": "code",
   "execution_count": 28,
   "id": "6b2f5842",
   "metadata": {},
   "outputs": [
    {
     "name": "stdout",
     "output_type": "stream",
     "text": [
      "Minimum number in the list:  1\n",
      "\n",
      "\n",
      "Max number in the list:  5\n",
      "\n",
      "\n",
      "Sum of the numbers in the list:  15\n"
     ]
    }
   ],
   "source": [
    "nums = [1,3,4,5,2]\n",
    "\n",
    "print(\"Minimum number in the list: \", min(nums))\n",
    "\n",
    "print(\"\\n\")\n",
    "\n",
    "print(\"Max number in the list: \", max(nums))\n",
    "      \n",
    "print(\"\\n\")\n",
    "      \n",
    "print(\"Sum of the numbers in the list: \", sum(nums))"
   ]
  },
  {
   "cell_type": "markdown",
   "id": "d7e7dadd",
   "metadata": {},
   "source": [
    "### Know the index of the element\n",
    "\n",
    "If you want know the index of the element within the list you can use `index` method"
   ]
  },
  {
   "cell_type": "code",
   "execution_count": 29,
   "id": "8520cfd3",
   "metadata": {},
   "outputs": [
    {
     "name": "stdout",
     "output_type": "stream",
     "text": [
      "3\n"
     ]
    }
   ],
   "source": [
    "courses = ['Tel','Hin','Math', 'Sci', 'Soc']\n",
    "\n",
    "print(courses.index(\"Sci\"))"
   ]
  },
  {
   "cell_type": "markdown",
   "id": "cd2dfeb8",
   "metadata": {},
   "source": [
    "### Checking the elements present in the list"
   ]
  },
  {
   "cell_type": "code",
   "execution_count": 30,
   "id": "ab8cbdc1",
   "metadata": {},
   "outputs": [
    {
     "name": "stdout",
     "output_type": "stream",
     "text": [
      "False\n",
      "\n",
      "\n",
      "True\n"
     ]
    }
   ],
   "source": [
    "courses = ['Tel','Hin','Math', 'Sci', 'Soc']\n",
    "\n",
    "\n",
    "print('Art' in courses)\n",
    "\n",
    "print(\"\\n\")\n",
    "\n",
    "print(\"Soc\" in courses)"
   ]
  },
  {
   "cell_type": "code",
   "execution_count": null,
   "id": "3e51c1a0",
   "metadata": {},
   "outputs": [],
   "source": []
  }
 ],
 "metadata": {
  "kernelspec": {
   "display_name": "Python 3 (ipykernel)",
   "language": "python",
   "name": "python3"
  },
  "language_info": {
   "codemirror_mode": {
    "name": "ipython",
    "version": 3
   },
   "file_extension": ".py",
   "mimetype": "text/x-python",
   "name": "python",
   "nbconvert_exporter": "python",
   "pygments_lexer": "ipython3",
   "version": "3.9.7"
  }
 },
 "nbformat": 4,
 "nbformat_minor": 5
}
