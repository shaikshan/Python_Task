{
 "cells": [
  {
   "cell_type": "code",
   "execution_count": 1,
   "id": "33281b66",
   "metadata": {},
   "outputs": [],
   "source": [
    "import numpy as np"
   ]
  },
  {
   "cell_type": "code",
   "execution_count": 2,
   "id": "f878c528",
   "metadata": {},
   "outputs": [],
   "source": [
    "l = [1,2,3,4,5]"
   ]
  },
  {
   "cell_type": "code",
   "execution_count": 5,
   "id": "b48d0c74",
   "metadata": {},
   "outputs": [
    {
     "data": {
      "text/plain": [
       "numpy.ndarray"
      ]
     },
     "execution_count": 5,
     "metadata": {},
     "output_type": "execute_result"
    }
   ],
   "source": [
    "type(np.asarray(l))"
   ]
  },
  {
   "cell_type": "code",
   "execution_count": 6,
   "id": "903ec0d0",
   "metadata": {},
   "outputs": [
    {
     "data": {
      "text/plain": [
       "array([0., 0., 0., 0., 0.])"
      ]
     },
     "execution_count": 6,
     "metadata": {},
     "output_type": "execute_result"
    }
   ],
   "source": [
    "np.zeros(5)"
   ]
  },
  {
   "cell_type": "code",
   "execution_count": 7,
   "id": "9d6eb5a4",
   "metadata": {},
   "outputs": [
    {
     "data": {
      "text/plain": [
       "array([[0., 0., 0., 0.],\n",
       "       [0., 0., 0., 0.],\n",
       "       [0., 0., 0., 0.]])"
      ]
     },
     "execution_count": 7,
     "metadata": {},
     "output_type": "execute_result"
    }
   ],
   "source": [
    "np.zeros((3,4))"
   ]
  },
  {
   "cell_type": "code",
   "execution_count": 8,
   "id": "556a5748",
   "metadata": {},
   "outputs": [
    {
     "data": {
      "text/plain": [
       "array([[[0., 0., 0., 0., 0.],\n",
       "        [0., 0., 0., 0., 0.],\n",
       "        [0., 0., 0., 0., 0.],\n",
       "        [0., 0., 0., 0., 0.]],\n",
       "\n",
       "       [[0., 0., 0., 0., 0.],\n",
       "        [0., 0., 0., 0., 0.],\n",
       "        [0., 0., 0., 0., 0.],\n",
       "        [0., 0., 0., 0., 0.]],\n",
       "\n",
       "       [[0., 0., 0., 0., 0.],\n",
       "        [0., 0., 0., 0., 0.],\n",
       "        [0., 0., 0., 0., 0.],\n",
       "        [0., 0., 0., 0., 0.]]])"
      ]
     },
     "execution_count": 8,
     "metadata": {},
     "output_type": "execute_result"
    }
   ],
   "source": [
    "np.zeros((3,4,5))"
   ]
  },
  {
   "cell_type": "code",
   "execution_count": 9,
   "id": "e11e4235",
   "metadata": {},
   "outputs": [
    {
     "data": {
      "text/plain": [
       "array([1., 1., 1., 1., 1.])"
      ]
     },
     "execution_count": 9,
     "metadata": {},
     "output_type": "execute_result"
    }
   ],
   "source": [
    "np.ones(5)"
   ]
  },
  {
   "cell_type": "code",
   "execution_count": 10,
   "id": "f323188b",
   "metadata": {},
   "outputs": [
    {
     "data": {
      "text/plain": [
       "array([[1., 1., 1., 1., 1., 1.],\n",
       "       [1., 1., 1., 1., 1., 1.],\n",
       "       [1., 1., 1., 1., 1., 1.]])"
      ]
     },
     "execution_count": 10,
     "metadata": {},
     "output_type": "execute_result"
    }
   ],
   "source": [
    "np.ones((3,6))"
   ]
  },
  {
   "cell_type": "code",
   "execution_count": 11,
   "id": "e03d8469",
   "metadata": {},
   "outputs": [
    {
     "data": {
      "text/plain": [
       "array([[[1., 1.],\n",
       "        [1., 1.],\n",
       "        [1., 1.],\n",
       "        [1., 1.],\n",
       "        [1., 1.],\n",
       "        [1., 1.]],\n",
       "\n",
       "       [[1., 1.],\n",
       "        [1., 1.],\n",
       "        [1., 1.],\n",
       "        [1., 1.],\n",
       "        [1., 1.],\n",
       "        [1., 1.]],\n",
       "\n",
       "       [[1., 1.],\n",
       "        [1., 1.],\n",
       "        [1., 1.],\n",
       "        [1., 1.],\n",
       "        [1., 1.],\n",
       "        [1., 1.]]])"
      ]
     },
     "execution_count": 11,
     "metadata": {},
     "output_type": "execute_result"
    }
   ],
   "source": [
    "np.ones((3,6,2))"
   ]
  },
  {
   "cell_type": "code",
   "execution_count": 14,
   "id": "9080f2be",
   "metadata": {},
   "outputs": [
    {
     "data": {
      "text/plain": [
       "array([[5., 5., 5., 5.],\n",
       "       [5., 5., 5., 5.],\n",
       "       [5., 5., 5., 5.]])"
      ]
     },
     "execution_count": 14,
     "metadata": {},
     "output_type": "execute_result"
    }
   ],
   "source": [
    "#Broadcasting\n",
    "5+np.zeros((3,4))"
   ]
  },
  {
   "cell_type": "code",
   "execution_count": 15,
   "id": "f8d6a1eb",
   "metadata": {},
   "outputs": [
    {
     "data": {
      "text/plain": [
       "array([[0., 0., 0., 0., 0.],\n",
       "       [0., 0., 0., 0., 0.],\n",
       "       [0., 0., 0., 0., 0.],\n",
       "       [0., 0., 0., 0., 0.]])"
      ]
     },
     "execution_count": 15,
     "metadata": {},
     "output_type": "execute_result"
    }
   ],
   "source": [
    "np.empty((4,5))"
   ]
  },
  {
   "cell_type": "code",
   "execution_count": 16,
   "id": "fc529c05",
   "metadata": {},
   "outputs": [
    {
     "data": {
      "text/plain": [
       "array([2.        , 2.08163265, 2.16326531, 2.24489796, 2.32653061,\n",
       "       2.40816327, 2.48979592, 2.57142857, 2.65306122, 2.73469388,\n",
       "       2.81632653, 2.89795918, 2.97959184, 3.06122449, 3.14285714,\n",
       "       3.2244898 , 3.30612245, 3.3877551 , 3.46938776, 3.55102041,\n",
       "       3.63265306, 3.71428571, 3.79591837, 3.87755102, 3.95918367,\n",
       "       4.04081633, 4.12244898, 4.20408163, 4.28571429, 4.36734694,\n",
       "       4.44897959, 4.53061224, 4.6122449 , 4.69387755, 4.7755102 ,\n",
       "       4.85714286, 4.93877551, 5.02040816, 5.10204082, 5.18367347,\n",
       "       5.26530612, 5.34693878, 5.42857143, 5.51020408, 5.59183673,\n",
       "       5.67346939, 5.75510204, 5.83673469, 5.91836735, 6.        ])"
      ]
     },
     "execution_count": 16,
     "metadata": {},
     "output_type": "execute_result"
    }
   ],
   "source": [
    "np.linspace(2,6)"
   ]
  },
  {
   "cell_type": "code",
   "execution_count": 17,
   "id": "22c27732",
   "metadata": {},
   "outputs": [
    {
     "data": {
      "text/plain": [
       "array([  144.        ,   250.13850321,   434.50882493,   754.77352153,\n",
       "        1311.09665931,  2277.47052728,  3956.13242226,  6872.09057374,\n",
       "       11937.32256987, 20736.        ])"
      ]
     },
     "execution_count": 17,
     "metadata": {},
     "output_type": "execute_result"
    }
   ],
   "source": [
    "np.logspace(2,4,10,base=12)"
   ]
  },
  {
   "cell_type": "code",
   "execution_count": 20,
   "id": "e0796348",
   "metadata": {},
   "outputs": [],
   "source": [
    "a = np.arange(16).reshape(4,4)"
   ]
  },
  {
   "cell_type": "code",
   "execution_count": 21,
   "id": "8d136442",
   "metadata": {},
   "outputs": [
    {
     "data": {
      "text/plain": [
       "array([[ 0,  1,  2,  3],\n",
       "       [ 4,  5,  6,  7],\n",
       "       [ 8,  9, 10, 11],\n",
       "       [12, 13, 14, 15]])"
      ]
     },
     "execution_count": 21,
     "metadata": {},
     "output_type": "execute_result"
    }
   ],
   "source": [
    "a"
   ]
  },
  {
   "cell_type": "code",
   "execution_count": 22,
   "id": "b45396af",
   "metadata": {},
   "outputs": [
    {
     "data": {
      "text/plain": [
       "15"
      ]
     },
     "execution_count": 22,
     "metadata": {},
     "output_type": "execute_result"
    }
   ],
   "source": [
    "a.max()"
   ]
  },
  {
   "cell_type": "code",
   "execution_count": 24,
   "id": "05c1be63",
   "metadata": {},
   "outputs": [],
   "source": [
    "a = np.arange(4,20).reshape(4,4)"
   ]
  },
  {
   "cell_type": "code",
   "execution_count": 25,
   "id": "5e272b0a",
   "metadata": {},
   "outputs": [
    {
     "data": {
      "text/plain": [
       "19"
      ]
     },
     "execution_count": 25,
     "metadata": {},
     "output_type": "execute_result"
    }
   ],
   "source": [
    "a.max()"
   ]
  },
  {
   "cell_type": "code",
   "execution_count": 26,
   "id": "c840a88d",
   "metadata": {},
   "outputs": [],
   "source": [
    "a = np.arange(4,40).reshape(3,6,2)"
   ]
  },
  {
   "cell_type": "code",
   "execution_count": 27,
   "id": "7d837226",
   "metadata": {},
   "outputs": [
    {
     "data": {
      "text/plain": [
       "array([[[ 4,  5],\n",
       "        [ 6,  7],\n",
       "        [ 8,  9],\n",
       "        [10, 11],\n",
       "        [12, 13],\n",
       "        [14, 15]],\n",
       "\n",
       "       [[16, 17],\n",
       "        [18, 19],\n",
       "        [20, 21],\n",
       "        [22, 23],\n",
       "        [24, 25],\n",
       "        [26, 27]],\n",
       "\n",
       "       [[28, 29],\n",
       "        [30, 31],\n",
       "        [32, 33],\n",
       "        [34, 35],\n",
       "        [36, 37],\n",
       "        [38, 39]]])"
      ]
     },
     "execution_count": 27,
     "metadata": {},
     "output_type": "execute_result"
    }
   ],
   "source": [
    "a"
   ]
  },
  {
   "cell_type": "code",
   "execution_count": 28,
   "id": "24cea3b0",
   "metadata": {},
   "outputs": [
    {
     "data": {
      "text/plain": [
       "array([[14, 15],\n",
       "       [26, 27],\n",
       "       [38, 39]])"
      ]
     },
     "execution_count": 28,
     "metadata": {},
     "output_type": "execute_result"
    }
   ],
   "source": [
    "a.max(axis=1)"
   ]
  },
  {
   "cell_type": "code",
   "execution_count": 29,
   "id": "7f591aa8",
   "metadata": {},
   "outputs": [
    {
     "data": {
      "text/plain": [
       "array([[28, 29],\n",
       "       [30, 31],\n",
       "       [32, 33],\n",
       "       [34, 35],\n",
       "       [36, 37],\n",
       "       [38, 39]])"
      ]
     },
     "execution_count": 29,
     "metadata": {},
     "output_type": "execute_result"
    }
   ],
   "source": [
    "a.max(axis=0)"
   ]
  },
  {
   "cell_type": "code",
   "execution_count": 30,
   "id": "3172251c",
   "metadata": {},
   "outputs": [
    {
     "data": {
      "text/plain": [
       "array([[[14, 15],\n",
       "        [16, 17],\n",
       "        [18, 19],\n",
       "        [20, 21],\n",
       "        [22, 23],\n",
       "        [24, 25]],\n",
       "\n",
       "       [[26, 27],\n",
       "        [28, 29],\n",
       "        [30, 31],\n",
       "        [32, 33],\n",
       "        [34, 35],\n",
       "        [36, 37]],\n",
       "\n",
       "       [[38, 39],\n",
       "        [40, 41],\n",
       "        [42, 43],\n",
       "        [44, 45],\n",
       "        [46, 47],\n",
       "        [48, 49]]])"
      ]
     },
     "execution_count": 30,
     "metadata": {},
     "output_type": "execute_result"
    }
   ],
   "source": [
    "10+a"
   ]
  },
  {
   "cell_type": "code",
   "execution_count": 31,
   "id": "4e1a195a",
   "metadata": {},
   "outputs": [
    {
     "name": "stderr",
     "output_type": "stream",
     "text": [
      "C:\\Users\\Munna\\AppData\\Local\\Temp\\ipykernel_12504\\4102073204.py:1: RuntimeWarning: divide by zero encountered in divide\n",
      "  a/0\n"
     ]
    },
    {
     "data": {
      "text/plain": [
       "array([[[inf, inf],\n",
       "        [inf, inf],\n",
       "        [inf, inf],\n",
       "        [inf, inf],\n",
       "        [inf, inf],\n",
       "        [inf, inf]],\n",
       "\n",
       "       [[inf, inf],\n",
       "        [inf, inf],\n",
       "        [inf, inf],\n",
       "        [inf, inf],\n",
       "        [inf, inf],\n",
       "        [inf, inf]],\n",
       "\n",
       "       [[inf, inf],\n",
       "        [inf, inf],\n",
       "        [inf, inf],\n",
       "        [inf, inf],\n",
       "        [inf, inf],\n",
       "        [inf, inf]]])"
      ]
     },
     "execution_count": 31,
     "metadata": {},
     "output_type": "execute_result"
    }
   ],
   "source": [
    "a/0"
   ]
  },
  {
   "cell_type": "code",
   "execution_count": 32,
   "id": "7bce9610",
   "metadata": {},
   "outputs": [
    {
     "data": {
      "text/plain": [
       "array([[[  16,   25],\n",
       "        [  36,   49],\n",
       "        [  64,   81],\n",
       "        [ 100,  121],\n",
       "        [ 144,  169],\n",
       "        [ 196,  225]],\n",
       "\n",
       "       [[ 256,  289],\n",
       "        [ 324,  361],\n",
       "        [ 400,  441],\n",
       "        [ 484,  529],\n",
       "        [ 576,  625],\n",
       "        [ 676,  729]],\n",
       "\n",
       "       [[ 784,  841],\n",
       "        [ 900,  961],\n",
       "        [1024, 1089],\n",
       "        [1156, 1225],\n",
       "        [1296, 1369],\n",
       "        [1444, 1521]]])"
      ]
     },
     "execution_count": 32,
     "metadata": {},
     "output_type": "execute_result"
    }
   ],
   "source": [
    "a**2"
   ]
  },
  {
   "cell_type": "code",
   "execution_count": 33,
   "id": "dfecb9a8",
   "metadata": {},
   "outputs": [
    {
     "data": {
      "text/plain": [
       "array([[[  16,   25],\n",
       "        [  36,   49],\n",
       "        [  64,   81],\n",
       "        [ 100,  121],\n",
       "        [ 144,  169],\n",
       "        [ 196,  225]],\n",
       "\n",
       "       [[ 256,  289],\n",
       "        [ 324,  361],\n",
       "        [ 400,  441],\n",
       "        [ 484,  529],\n",
       "        [ 576,  625],\n",
       "        [ 676,  729]],\n",
       "\n",
       "       [[ 784,  841],\n",
       "        [ 900,  961],\n",
       "        [1024, 1089],\n",
       "        [1156, 1225],\n",
       "        [1296, 1369],\n",
       "        [1444, 1521]]])"
      ]
     },
     "execution_count": 33,
     "metadata": {},
     "output_type": "execute_result"
    }
   ],
   "source": [
    "pow(a,2)"
   ]
  },
  {
   "cell_type": "code",
   "execution_count": 37,
   "id": "14c18926",
   "metadata": {},
   "outputs": [],
   "source": [
    "b = np.array([2,3,1,2,3,2])"
   ]
  },
  {
   "cell_type": "code",
   "execution_count": 35,
   "id": "397e39a6",
   "metadata": {},
   "outputs": [
    {
     "data": {
      "text/plain": [
       "array([2, 3, 1, 2, 3])"
      ]
     },
     "execution_count": 35,
     "metadata": {},
     "output_type": "execute_result"
    }
   ],
   "source": [
    "b"
   ]
  },
  {
   "cell_type": "code",
   "execution_count": 38,
   "id": "186d9155",
   "metadata": {},
   "outputs": [],
   "source": [
    "a = np.arange(4,40).reshape(6,6)"
   ]
  },
  {
   "cell_type": "code",
   "execution_count": 39,
   "id": "e28020b2",
   "metadata": {},
   "outputs": [
    {
     "data": {
      "text/plain": [
       "array([[ 6,  8,  7,  9, 11, 11],\n",
       "       [12, 14, 13, 15, 17, 17],\n",
       "       [18, 20, 19, 21, 23, 23],\n",
       "       [24, 26, 25, 27, 29, 29],\n",
       "       [30, 32, 31, 33, 35, 35],\n",
       "       [36, 38, 37, 39, 41, 41]])"
      ]
     },
     "execution_count": 39,
     "metadata": {},
     "output_type": "execute_result"
    }
   ],
   "source": [
    "a+b"
   ]
  },
  {
   "cell_type": "code",
   "execution_count": null,
   "id": "6af5ac98",
   "metadata": {},
   "outputs": [],
   "source": []
  }
 ],
 "metadata": {
  "kernelspec": {
   "display_name": "Python 3 (ipykernel)",
   "language": "python",
   "name": "python3"
  },
  "language_info": {
   "codemirror_mode": {
    "name": "ipython",
    "version": 3
   },
   "file_extension": ".py",
   "mimetype": "text/x-python",
   "name": "python",
   "nbconvert_exporter": "python",
   "pygments_lexer": "ipython3",
   "version": "3.9.7"
  }
 },
 "nbformat": 4,
 "nbformat_minor": 5
}
